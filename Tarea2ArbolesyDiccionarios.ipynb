{
 "cells": [
  {
   "attachments": {},
   "cell_type": "markdown",
   "id": "3607bd44",
   "metadata": {},
   "source": [
    "<h1 align=\"center\">  Manejo de Datos\n",
    "<h2 align=\"center\"> Tarea 2: Árboles y diccionarios\n",
    "<h3 align=\"center\"> Villanueva Alcalá Uriel 31625304-2\n",
    "    \n",
    "<hr size=\"15px\" color=\"black\" />"
   ]
  },
  {
   "cell_type": "markdown",
   "id": "787257a8",
   "metadata": {},
   "source": [
    "# Árboles Binarios de Búsqueda"
   ]
  },
  {
   "attachments": {},
   "cell_type": "markdown",
   "id": "c6cc9bcb",
   "metadata": {},
   "source": [
    "#### 1. Genera un ABB, insertando los siguientes elementos [15,10, 20, 8, 14, 0, 35, 99, 30] y muestra el resultado"
   ]
  },
  {
   "attachments": {},
   "cell_type": "markdown",
   "id": "e9a2a509",
   "metadata": {},
   "source": [
    "**Solución** Se definen las clases Nodo, AB y ABB vistas en clase"
   ]
  },
  {
   "cell_type": "code",
   "execution_count": 23,
   "id": "5ac0ff45",
   "metadata": {},
   "outputs": [],
   "source": [
    "class Nodo(object):\n",
    "  '''\n",
    "  Constructor de nodos\n",
    "  dato: es el contenido del nodo\n",
    "  '''\n",
    "  def __init__(self, dato):\n",
    "    self.izq = None\n",
    "    self.dato = dato\n",
    "    self.der = None\n",
    "    self.padre = None\n",
    "\n",
    "  # Nos dice si el nodo tiene al menos un hijo    \n",
    "  def tieneHijos(self):\n",
    "    return self.izq is not None and self.der is not None\n",
    "  \n",
    "  # Nos dide si el nodo es un hijo izquierdo\n",
    "  def esIzq(self):\n",
    "    return self.padre.izq == self\n",
    "  \n",
    "  # Nos dice si el nodo es un hijo derecho\n",
    "  def esDer(self):\n",
    "    return self.padre.der == self\n",
    "  \n",
    "  # Imprime el contenido del nodo\n",
    "  def __str__(self):\n",
    "    if self.dato is None:\n",
    "      pass\n",
    "    else:\n",
    "      return '{}'.format(self.dato)"
   ]
  },
  {
   "cell_type": "code",
   "execution_count": 24,
   "id": "25ae63db",
   "metadata": {},
   "outputs": [],
   "source": [
    "import random\n",
    "\n",
    "''' Clase AB (ArbolBinario), genera la estructura de un arbol binario, asi como sus funciones.'''\n",
    "class AB(object):\n",
    "\n",
    "  ''' Consructor de arboles binarios'''\n",
    "  def __init__(self, dato):\n",
    "    self.raiz = Nodo(dato)\n",
    "      \n",
    "  ''' Elimina todo el arbol'''\n",
    "  def elimina(self):\n",
    "    self.raiz = None\n",
    "      \n",
    "  ''' Devuelve el nivel del nodo que se le pasa como parametro.\n",
    "      La raiz se ubica en el nivel cero'''\n",
    "  def nivel(self, nodo):\n",
    "    if nodo is None:\n",
    "      return -1\n",
    "    else:\n",
    "      return 1 + self.nivel(nodo.padre)\n",
    "\n",
    "  ''' Devuelve la altura a partir del nodo que se le pasa como parametro,\n",
    "      si el arbol es vacio la altura es cero, si no se le suma 1 al maximo\n",
    "      de las alturas de sus hijos'''\n",
    "  def altura(self, nodo):\n",
    "    if nodo is None:\n",
    "      return 0\n",
    "    else:\n",
    "      return 1 + max(self.altura(nodo.izq), self.altura(nodo.der))\n",
    "      \n",
    "  ''' Inserta recursivamente un dato en el arbol de manera recursiva\n",
    "      nodo: es el nodo a partir del cual se quiere insertar\n",
    "      dato: es el dato que se quiere insertar\n",
    "  '''\n",
    "  def insertar_nodo(self, nodo, dato):\n",
    "    # si el nodo es vacio ahi se crea el nuevo nodo\n",
    "    if nodo is None:\n",
    "        nuevo_nodo = Nodo(dato)\n",
    "        return nuevo_nodo\n",
    "    # dado que en los AB no hay un orden el nuevo nodo se inserta donde sea\n",
    "    if bool(random.getrandbits(1)):\n",
    "        nuevo_nodo = self.insertar_nodo(nodo.izq, dato)\n",
    "        nodo.izq = nuevo_nodo\n",
    "        nuevo_nodo.padre = nodo\n",
    "    else:\n",
    "        nuevo_nodo = self.insertar_nodo(nodo.der, dato)\n",
    "        nodo.der = nuevo_nodo\n",
    "        nuevo_nodo.padre = nodo\n",
    "    #nodo guarda toda la ruta de donde sera insertado el dato\n",
    "    #hasta caer en el caso base, es por eso que se devuelve    \n",
    "    return nodo\n",
    "  \n",
    "  ''' Inserta un nodo en el arbol, a partir de la raiz'''\n",
    "  def insertar(self, dato):\n",
    "    #Se inserta el dato desde la raiz\n",
    "    self.insertar_nodo(self.raiz, dato)\n",
    "      \n",
    "  ''' Recorre el arbol enorden e imprime cada uno de sus nodos'''\n",
    "  def recorrido_enorden(self, nodo):\n",
    "    if nodo is not None:\n",
    "      self.recorrido_enorden(nodo.izq)\n",
    "      print(nodo.dato)\n",
    "      self.recorrido_enorden(nodo.der)\n",
    "\n",
    "  ''' Recorre el arbol preorden e imprime cada uno de sus nodos'''\n",
    "  def recorrido_preorden(self, nodo):\n",
    "    if nodo is not None:\n",
    "      print(nodo.dato)\n",
    "      self.recorrido_preorden(nodo.izq)\n",
    "      self.recorrido_preorden(nodo.der)\n",
    "\n",
    "  ''' Recorre el arbol postorden e imprime cada uno de sus nodos'''\n",
    "  def recorrido_postorden(self, nodo):\n",
    "    if nodo is not None:\n",
    "      self.recorrido_postorden(nodo.izq)\n",
    "      self.recorrido_postorden(nodo.der)\n",
    "      print(nodo.dato)"
   ]
  },
  {
   "cell_type": "code",
   "execution_count": 25,
   "id": "cf653e58",
   "metadata": {},
   "outputs": [],
   "source": [
    "''' Clase arbol binario de busqueda, genera la estructura de un arbol binario\n",
    "    de busqueda asi como sus funciones.'''\n",
    "class ABB(AB):\n",
    "  ''' Consructor de arboles'''\n",
    "  def __init__(self, dato):\n",
    "    # llamamos al constructor de la clase padre con la palabra super\n",
    "    super(ABB, self).__init__(dato)\n",
    "    # y se agrega la variable ultimo agregado que sirve para clases posteriores\n",
    "    self.ultimo_agregado = self.raiz\n",
    "\n",
    "  ''' Busca un dato en el arbol y devuelve el nodo'''\n",
    "  def busqueda(self, nodo, dato):\n",
    "    # si la raiz es None o el dato esta contenido en el nodo,\n",
    "    # se devuelve el nodo.\n",
    "    if nodo is None or nodo.dato == dato:\n",
    "      return nodo\n",
    "    # si el dato es mayo entonces se busca del lado derecho\n",
    "    if nodo.dato < dato:\n",
    "      return self.busqueda(nodo.der, dato)\n",
    "    # si no, se busca en el lado izquierdo\n",
    "    else:\n",
    "      return self.busqueda(nodo.izq, dato)\n",
    "\n",
    "  ''' Inserta un elemento en el arbol a partir de un nodo'''\n",
    "  def insertar_nodo(self, nodo, dato):\n",
    "    # si el nodo es vacio ahi se crea el nuevo nodo\n",
    "    if nodo is None:\n",
    "      nuevo_nodo = Nodo(dato)\n",
    "      self.ultimo_agregado = nuevo_nodo\n",
    "      return nuevo_nodo\n",
    "    # si el dato es menor que su padre, se inserta en el lado izquierdo\n",
    "    if dato < nodo.dato:\n",
    "      nuevo_nodo = self.insertar_nodo(nodo.izq, dato)\n",
    "      nodo.izq = nuevo_nodo\n",
    "      nuevo_nodo.padre = nodo\n",
    "    # de no ser asi se inserta del lado derecho\n",
    "    else:\n",
    "      nuevo_nodo = self.insertar_nodo(nodo.der, dato)\n",
    "      nodo.der = nuevo_nodo\n",
    "      nuevo_nodo.padre = nodo\n",
    "    # nodo guarda toda la ruta de donde sera insertado el dato\n",
    "    # hasta caer en el caso base, es por eso que se devuelve    \n",
    "    return nodo\n",
    "  \n",
    "  ''' Inserta un nodo en el arbol, a partir de la raiz'''\n",
    "  def insertar(self, dato):\n",
    "    # si el dato a insertar no se encuentra en el ABB se inserta\n",
    "    if self.busqueda(self.raiz, dato) is None:\n",
    "      # Se inserta el dato desde la raiz\n",
    "      self.insertar_nodo(self.raiz, dato)\n",
    "\n",
    "  ''' Busca el minimo en el subarbol a partir de nodo, este metodo sirve\n",
    "      para poder eliminar nodos del arbol y mantener el orden'''\n",
    "  def minimo_en_subarbol(self, nodo):\n",
    "    # caso base en el que no hay minimo\n",
    "    if nodo is None:\n",
    "      return nodo\n",
    "    # caso base en el que el nodo es el minimo ya que no tiene hijo izq\n",
    "    if nodo.izq is None:\n",
    "      return nodo\n",
    "    # llamada recursiva para movernos al siguiente minimo\n",
    "    return self.minimo_en_subarbol(nodo.izq)\n",
    "\n",
    "  ''' Borra un nodo en el arbol, busca al nodo que contiene a dato\n",
    "      y en caso de existir lo borra, se pueden dar multiples casos'''\n",
    "  def borra_nodo(self, nodo, dato):\n",
    "    # Caso 0) revisamos si el arbol es vacio.\n",
    "    if self.raiz is None:\n",
    "      return None\n",
    "    # buscamos el nodo a borrar\n",
    "    nodo_a_borrar = self.busqueda(nodo, dato)\n",
    "    aux = nodo_a_borrar\n",
    "\n",
    "    # Caso 0.1) si el dato no se encontro en el arbol no se puede borrar\n",
    "    if nodo_a_borrar is None:\n",
    "      return None\n",
    "\n",
    "    # Caso 1) si el nodo a borrar es la RAIZ\n",
    "    if nodo_a_borrar is self.raiz:\n",
    "      # caso1.1) no tiene hijos, solo se borra la raiz\n",
    "      if nodo_a_borrar.izq is None and nodo_a_borrar.der is None:\n",
    "        self.raiz = None\n",
    "        self.ultimo_agregado = None\n",
    "        return None\n",
    "\n",
    "      # Caso1.2) solo se tiene hijo derecho, entonces se sube al hijo derecho\n",
    "      if nodo_a_borrar.izq is None and nodo_a_borrar.der is not None:\n",
    "        self.raiz = nodo_a_borrar.der\n",
    "        self.raiz.padre = None\n",
    "        return self.raiz\n",
    "\n",
    "      # Caso1.3) solo se tiene hijo izquierdo, entonces se sube al hijo izquierdo\n",
    "      if nodo_a_borrar.izq is not None and nodo_a_borrar.der is None:\n",
    "        self.raiz = nodo_a_borrar.izq\n",
    "        self.raiz.padre = None\n",
    "        return self.raiz\n",
    "\n",
    "      # Caso1.4) tiene ambos hijos\n",
    "      if nodo_a_borrar.izq is not None and nodo_a_borrar.der is not None:\n",
    "        # buscamos el minimo en el subarbol derecho (minimo de los mayores)\n",
    "        minimo = self.minimo_en_subarbol(nodo_a_borrar.der)\n",
    "        aux = minimo.padre\n",
    "        self.raiz.dato = minimo.dato\n",
    "        self.borra_nodo(minimo, minimo.dato)\n",
    "        return aux\n",
    "\n",
    "    else: #Caso 2)\n",
    "      # a partir de aqui se tienen 3 casos:\n",
    "      # si no tiene hijos simplemente se borra el nodo\n",
    "      # si tiene un solo hijo (ya sea izquierdo o derecho) se sube al unico hijo\n",
    "      # tiene ambos hijos\n",
    "\n",
    "      # es necesario identificar si el nodo a borrar es hijo izquierdo o derecho\n",
    "      es_izquierdo = False\n",
    "      if nodo_a_borrar.padre.izq == nodo_a_borrar:\n",
    "        es_izquierdo = True\n",
    "\n",
    "      # Caso2.1) no tiene hijos, solo se borra el nodo\n",
    "      if nodo_a_borrar.izq is None and nodo_a_borrar.der is None:\n",
    "        aux = nodo_a_borrar.padre\n",
    "        # revisamos si el nodo a borrar es un hijo izquiero o derecho\n",
    "        if es_izquierdo: # Caso2.1.1)\n",
    "          aux.izq = None\n",
    "        else: # Caso2.1.2)\n",
    "          aux.der = None\n",
    "        nodo_a_borrar = None\n",
    "        return aux\n",
    "      \n",
    "      # Caso2.2) solo se tiene hijo izquierdo, entonces se sube al hijo izquierdo\n",
    "      if nodo_a_borrar.izq is not None and nodo_a_borrar.der is None:\n",
    "        nodo_a_borrar.izq.padre = nodo_a_borrar.padre\n",
    "        aux = nodo_a_borrar.padre\n",
    "        # revisamos si el nodo a borrar es un hijo izquiero o derecho\n",
    "        if es_izquierdo: # Caso2.2.1)\n",
    "          nodo_a_borrar.padre.izq = nodo_a_borrar.izq\n",
    "        else: # Caso2.2.2)\n",
    "          nodo_a_borrar.padre.der = nodo_a_borrar.izq\n",
    "        return aux\n",
    "\n",
    "      # Caso2.3) solo se tiene hijo derecho, entonces se sube al hijo derecho\n",
    "      if nodo_a_borrar.izq is None and nodo_a_borrar.der is not None:\n",
    "        nodo_a_borrar.der.padre = nodo_a_borrar.padre\n",
    "        aux = nodo_a_borrar.padre\n",
    "        # revisamos si el nodo a borrar es un hijo izquiero o derecho\n",
    "        if es_izquierdo: # Caso2.3.1)\n",
    "          nodo_a_borrar.padre.izq = nodo_a_borrar.der\n",
    "        else: # Caso2.3.2)\n",
    "          nodo_a_borrar.padre.der = nodo_a_borrar.der\n",
    "        return aux\n",
    "\n",
    "      # Caso2.4) tiene ambos hijos\n",
    "      if nodo_a_borrar.izq is not None and nodo_a_borrar.der is not None:\n",
    "        # buscamos el minimo en el subarbol derecho\n",
    "        minimo = self.minimo_en_subarbol(nodo_a_borrar.der)\n",
    "        aux = minimo.padre\n",
    "        nodo_a_borrar.dato = minimo.dato\n",
    "        self.borra_nodo(minimo, minimo.dato)\n",
    "        return aux\n",
    "  \n",
    "  ''' Borra un nodo que contiene a dato a partir de la raiz'''\n",
    "  def borrar(self, dato):\n",
    "    self.borra_nodo(self.raiz, dato)"
   ]
  },
  {
   "attachments": {},
   "cell_type": "markdown",
   "id": "8194c7df",
   "metadata": {},
   "source": [
    "Luego se define un árbol de búsqueda cuya raíz es 15 "
   ]
  },
  {
   "cell_type": "code",
   "execution_count": 26,
   "id": "4ef53270",
   "metadata": {},
   "outputs": [],
   "source": [
    "x = ABB(15)"
   ]
  },
  {
   "attachments": {},
   "cell_type": "markdown",
   "id": "a736348a",
   "metadata": {},
   "source": [
    "Finalmente se insertan los nodos como lo solicita el ejercicio."
   ]
  },
  {
   "cell_type": "code",
   "execution_count": 27,
   "id": "b6fbc314",
   "metadata": {},
   "outputs": [],
   "source": [
    "for i in [10, 20, 8, 14, 0, 35, 99, 30]:\n",
    "    x.insertar(i)"
   ]
  },
  {
   "attachments": {},
   "cell_type": "markdown",
   "id": "72cceb13",
   "metadata": {},
   "source": [
    "El resultado es el siguiente:"
   ]
  },
  {
   "attachments": {},
   "cell_type": "markdown",
   "id": "72cce4df",
   "metadata": {},
   "source": [
    "![Árbol binario de Búsqueda](Arbol1.PNG)"
   ]
  },
  {
   "attachments": {},
   "cell_type": "markdown",
   "id": "510fbcad",
   "metadata": {},
   "source": [
    "#### 2. Busca el valor 14 (como no modifica la estructura, no es necesario mostrar el abb, pero si los pasos necesarios para buscar el valor 14), describe los pasos necesarios para localizar el valor 14 dentro del ABB "
   ]
  },
  {
   "attachments": {},
   "cell_type": "markdown",
   "id": "e34c0a36",
   "metadata": {},
   "source": [
    "**Solución** Recordemos que la que la función ´busqueda´ se definicio de la siguiente forma"
   ]
  },
  {
   "cell_type": "raw",
   "id": "7dc7882d",
   "metadata": {},
   "source": [
    "def busqueda(self, nodo, dato):\n",
    "    # si la raiz es None o el dato esta contenido en el nodo,\n",
    "    # se devuelve el nodo.\n",
    "    if nodo is None or nodo.dato == dato:\n",
    "      return nodo\n",
    "    # si el dato es mayoR entonces se busca del lado derecho\n",
    "    if nodo.dato < dato:\n",
    "      return self.busqueda(nodo.der, dato)\n",
    "    # si no, se busca en el lado izquierdo\n",
    "    else:\n",
    "      return self.busqueda(nodo.izq, dato)"
   ]
  },
  {
   "cell_type": "code",
   "execution_count": 28,
   "id": "aae98efb",
   "metadata": {},
   "outputs": [
    {
     "name": "stdout",
     "output_type": "stream",
     "text": [
      "14\n"
     ]
    }
   ],
   "source": [
    "print(x.busqueda(x.raiz,14))"
   ]
  },
  {
   "attachments": {},
   "cell_type": "markdown",
   "id": "ff1856f0",
   "metadata": {},
   "source": [
    "La función búsqueda es una función recursiva.Para ello se define un caso base\n",
    " * Se compara el dato en la raíz con el dato a buscar. \n",
    "     - Si son estos datos son iguales, el algoritmo finaliza y devuelve el dato buscado.\n",
    "     - Si no son iguales, se compara el dato buscado con el dato en la raiz.\n",
    "         - Si es menor el dato buscado, se aplica la función `busqueda` al subárbol izquierdo.\n",
    "         - Si es mayor el dato buscado, se aplica la función `busqueda` al subárbol derecho.\n",
    "        \n",
    "     Nótese en cualquer caso siempre se cae al caso base.\n",
    "   \n",
    " En el ejemplo particular, supóngase que se desea buscar el dato 14 en el árbol construido. Se realizan los siguientes pasos\n",
    " \n",
    " 1. Como el valor de la raiz es $ 15 \\neq 14$ entonces se pasa al siguiente paso\n",
    " 2. Como $15 > 14$ entonces se busca el 14 en el nodo 10.\n",
    " 3. Como $10 \\neq 14$ se sigue al siguiente paso.\n",
    " 4. Como $10 < 14$ se busca el dato en el nodo hijo derecho.\n",
    " 5. Como $14 = 14$ se encontró el valor y se regresa `Nodo(14)`\n",
    " \n",
    " "
   ]
  },
  {
   "attachments": {},
   "cell_type": "markdown",
   "id": "8f362a6c",
   "metadata": {},
   "source": [
    "#### 3. Eliminar el valor 99."
   ]
  },
  {
   "attachments": {},
   "cell_type": "markdown",
   "id": "d004ae2b",
   "metadata": {},
   "source": [
    "**Solución** El 99 es eliminado al realizar simplemente"
   ]
  },
  {
   "cell_type": "code",
   "execution_count": 29,
   "id": "f39d56bc",
   "metadata": {},
   "outputs": [],
   "source": [
    "x.borrar(99)"
   ]
  },
  {
   "attachments": {},
   "cell_type": "markdown",
   "id": "9aa8b84d",
   "metadata": {},
   "source": [
    "El resultado se muestra a continuación\n",
    "\n",
    "![Alt text](Bin1.PNG)\n",
    "\n"
   ]
  },
  {
   "attachments": {},
   "cell_type": "markdown",
   "id": "939b2d81",
   "metadata": {},
   "source": [
    "#### 4. Eliminar el valor 15"
   ]
  },
  {
   "attachments": {},
   "cell_type": "markdown",
   "id": "1408d14f",
   "metadata": {},
   "source": [
    "**Solución** El 15 es eliminado al realizar simplemente"
   ]
  },
  {
   "cell_type": "code",
   "execution_count": 30,
   "id": "88a23cb6",
   "metadata": {},
   "outputs": [],
   "source": [
    "x.borrar(15)"
   ]
  },
  {
   "attachments": {},
   "cell_type": "markdown",
   "id": "0a5ea091",
   "metadata": {},
   "source": [
    "En este caso, como se elimina la raiz, primero se encuentra el mínimo de los valores mayor a éste, es decir, en este caso el nodo que tiene el valor 20. Luego, éste es el nuevo nodo raíz por lo que se realizan los ajustes de hijos y padres necesarios para preservar el orden. El resultado es el siguiente:\n",
    "\n",
    "![Alt text](Bin2.PNG)"
   ]
  },
  {
   "attachments": {},
   "cell_type": "markdown",
   "id": "e4062d0c",
   "metadata": {},
   "source": [
    "#### 5. Insertar 90."
   ]
  },
  {
   "attachments": {},
   "cell_type": "markdown",
   "id": "78b62c52",
   "metadata": {},
   "source": [
    "**Solución** El 90 lo insertamos con la siguiente instrucción"
   ]
  },
  {
   "cell_type": "code",
   "execution_count": 31,
   "id": "688b3914",
   "metadata": {},
   "outputs": [],
   "source": [
    "x.insertar(90)"
   ]
  },
  {
   "attachments": {},
   "cell_type": "markdown",
   "id": "4f48ecda",
   "metadata": {},
   "source": [
    "El nodo nuevo va terminar como hoja dado que es mayor a cualquier otro nodo, por lo que el resultado es:\n",
    "\n",
    "![Alt text](Bin3.PNG)"
   ]
  },
  {
   "attachments": {},
   "cell_type": "markdown",
   "id": "753623a5",
   "metadata": {},
   "source": [
    "#### 6. Después de haber realizado los puntos anteriores, muestra el resultado de recorrer el ABB en: Inorden, Preorden, Postorden."
   ]
  },
  {
   "attachments": {},
   "cell_type": "markdown",
   "id": "6704dd4d",
   "metadata": {},
   "source": [
    "**Solución** En el recorrido en orden se van a mostrar los datos como una lista ordenada como se muestra a continuación: "
   ]
  },
  {
   "cell_type": "code",
   "execution_count": 32,
   "id": "bd3926dc",
   "metadata": {},
   "outputs": [
    {
     "name": "stdout",
     "output_type": "stream",
     "text": [
      "0\n",
      "8\n",
      "10\n",
      "14\n",
      "20\n",
      "30\n",
      "35\n",
      "90\n"
     ]
    }
   ],
   "source": [
    "x.recorrido_enorden(x.raiz)"
   ]
  },
  {
   "attachments": {},
   "cell_type": "markdown",
   "id": "016b734c",
   "metadata": {},
   "source": [
    "En postorden se van a mostrar de forma recursiva los subárboles (hijo izquierdo, hijo derecho y raiz) de nivel mayor hasta el de menor nivel."
   ]
  },
  {
   "cell_type": "code",
   "execution_count": 33,
   "id": "4ab75aac",
   "metadata": {},
   "outputs": [
    {
     "name": "stdout",
     "output_type": "stream",
     "text": [
      "0\n",
      "8\n",
      "14\n",
      "10\n",
      "30\n",
      "90\n",
      "35\n",
      "20\n"
     ]
    }
   ],
   "source": [
    "x.recorrido_postorden(x.raiz)"
   ]
  },
  {
   "attachments": {},
   "cell_type": "markdown",
   "id": "01542bff",
   "metadata": {},
   "source": [
    "Finalmente en preorden donde lo primero se muestra la raiz luego el hijo izquierdo y finalmente el hijo derecho de forma recursiva en cada uno de los subárboles constituyentes."
   ]
  },
  {
   "cell_type": "code",
   "execution_count": 34,
   "id": "402ae7e7",
   "metadata": {},
   "outputs": [
    {
     "name": "stdout",
     "output_type": "stream",
     "text": [
      "20\n",
      "10\n",
      "8\n",
      "0\n",
      "14\n",
      "35\n",
      "30\n",
      "90\n"
     ]
    }
   ],
   "source": [
    "x.recorrido_preorden(x.raiz)"
   ]
  },
  {
   "attachments": {},
   "cell_type": "markdown",
   "id": "f3c2a263",
   "metadata": {},
   "source": [
    "### Análisis\n",
    "\n",
    "Indica cuál es el peor caso para este tipo de árboles y explica a que orden de complejidad pertenecen las operaciones: eliminar árbol, buscar, insertar y borrar nodo."
   ]
  },
  {
   "attachments": {},
   "cell_type": "markdown",
   "id": "0401dba0",
   "metadata": {},
   "source": [
    "**Solución**\n",
    "\n",
    "**Eliminar árbol**\n",
    "\n",
    "Este método fue definido para la clase `AB` y recordando que únicamente realiza una acción (con costo constante) que es básicamente cambiar el nodo raíz por un nodo Nulo, pues la computadora posteriormente limpiará el espacio de memoria que ocupa el árbol. Por lo tonto \n",
    "\n",
    "$$eliminar \\ arbol() \\in  O(1)$$\n",
    "\n",
    "es decir pertenece al orden constante.\n",
    "\n",
    "**Buscar**\n",
    "\n",
    "Para un árbol binario de búsqueda el peor caso consiste en un árbol degenerado, como se muestra en la siguiente forma.\n",
    "\n",
    "![Alt text](Bin4.PNG)\n",
    "\n",
    "En particular, para el algoritmo buscar nodo, el peor caso dentro de este peor caso es buscar ya sea un nodo que no se encuentra en el árbol o bien buscar el último de los nodos (el de dato menor). En cualquier caso, es claro que se tiene que ir recorriendo la lista y checando si el nodo a buscar está en cada una de las posiciones. Por lo tanto, en este peor caso se realizan $n$ operaciones con $n$ el tamaño del árbol (que en realidad es una lista). Por lo tanto\n",
    "\n",
    "$$buscar() \\in O(n)$$\n",
    "\n",
    "**Insertar**\n",
    "\n",
    "Nuevamente el peor caso consiste en un árbol degenerado, que en realidad es isomorfo a una lista y en particular se generan más operaciones cuando el elmento a insertar será una hoja, es decir, el valor de su dato es menor que todos los del árbol.\n",
    "\n",
    "Es claro que el algoritmo también irá recorriendo el árbol hasta llegar a al final de ésta y después insertará el nuevo nodo, tal como se muestra en la figura siguiente.\n",
    "\n",
    "![Alt text](Bin5.PNG)\n",
    "\n",
    "Por lo tanto, en este caso también se realizan $n$ operaciones, ya que se recorren $n-1$ elementos antes de llegar al final de la lista y luego se inserta el nuevo nodo, es decir, \n",
    "\n",
    "$$insertar \\in O(n)$$\n",
    "\n",
    "**Borrar nodo**\n",
    "\n",
    "Aquí basta notar que para eliminar un nodo lo primero que debe realizarse es buscar el nodo para luego simplemete quitarlo, es decir, realizar un ajuste de atributos (padres e hijos) de nodos adyacentes. Luego, es claro que la tarea de buscar el nodo es mucho más costosa (en número de operaciones) que los ajustes ulteriores de atributos, por lo que ésta última acción puede ser soslayada y entonces\n",
    "\n",
    "$$ buscar \\ nodo \\in O(n) $$"
   ]
  },
  {
   "attachments": {},
   "cell_type": "markdown",
   "id": "6a4ba5cb",
   "metadata": {},
   "source": [
    "# Árboles Binarios Balanceados"
   ]
  },
  {
   "attachments": {},
   "cell_type": "markdown",
   "id": "0a7c66f3",
   "metadata": {},
   "source": [
    "### 1. Genera un ArbolAVL, insertando los elementos [15, 10, 5, 16, 17, 9, 20]"
   ]
  },
  {
   "attachments": {},
   "cell_type": "markdown",
   "id": "f21a79e4",
   "metadata": {},
   "source": [
    "**Solución** Se crea la clase ArbolAVL vista en clase de la siguiente forma incluyendo algunos métodos también analizados."
   ]
  },
  {
   "cell_type": "code",
   "execution_count": 35,
   "id": "74156c0f",
   "metadata": {},
   "outputs": [],
   "source": [
    "class ArbolAVL(ABB):\n",
    "  #Constructor que hace uso del constructor de la clase padre (ABB)\n",
    "  def __init__(self, dato):\n",
    "    super(ArbolAVL, self).__init__(dato)\n",
    "      \n",
    "  #Devuelve el ultimo nodo agregado para balanceo en caso necesario\n",
    "  def ultimo(self):\n",
    "    return self.ultimo_agregado\n",
    "\n",
    "  #Determina si un nodo esta balanceado\n",
    "  def balanceado(self, nodo):\n",
    "    return abs(self.altura(nodo.der)-self.altura(nodo.izq)) <= 1\n",
    "\n",
    "  '''\n",
    "  2 = el subarbol esta muy cargado a la derecha\n",
    "  1 = el subarbol esta cargado a la derecha\n",
    "  0 = no hace falta rotar\n",
    "  -1 = el subarbol esta cargado a la derecha\n",
    "  -2 = el subarbol esta muy cargado a la izquierda\n",
    "  '''\n",
    "  def factor_equilibrio(self, nodo):\n",
    "      if nodo is None:\n",
    "          return 0\n",
    "      else:\n",
    "          return self.altura(nodo.der)-self.altura(nodo.izq)\n",
    "  \n",
    "  #Balancea el arbol, a partir de un nodo\n",
    "  def balancea(self, nodo):\n",
    "    #caso base\n",
    "    if nodo is None:\n",
    "      return\n",
    "    if not self.balanceado(nodo):\n",
    "      factorNodo = self.factor_equilibrio(nodo)\n",
    "      factorIz = self.factor_equilibrio(nodo.izq)\n",
    "      factorDer = self.factor_equilibrio(nodo.der)\n",
    "      #Si el nodo esta desbalanceado se tendra uno de 4 casos\n",
    "      #mismos que se solucionan con alguna de las 4 rotaciones\n",
    "      if factorNodo == -2 and (factorIz == -1 or factorIz == 0): #probado\n",
    "        self.rotacionSimpleDerecha(nodo)\n",
    "      if factorNodo == 2 and (factorDer == 1 or factorDer == 0): #probado\n",
    "        self.rotacionSimpleIzquierda(nodo)\n",
    "      if factorNodo == -2 and factorIz == 1: #probado\n",
    "        self.rotacionIzquierdaDerecha(nodo)\n",
    "      if factorNodo == 2 and factorDer == -1: #probado\n",
    "        self.rotacionDerechaIzquierda(nodo) \n",
    "    #llamada recursiva para balancear toda la ruta. Desde donde se inserto\n",
    "    #el nodo, hasta la raiz        \n",
    "    self.balancea(nodo.padre)        \n",
    "  \n",
    "  #Rota el nodo a la derecha\n",
    "  def rotacionSimpleDerecha(self, nodo):\n",
    "    if nodo is not None:\n",
    "      if nodo is self.raiz:\n",
    "        #actualizamos la raiz\n",
    "        self.raiz = nodo.izq\n",
    "        self.raiz.padre = None\n",
    "        # si el nodo.izq tiene hijo derecho se pasa como izq de nodo\n",
    "        if nodo.izq.der is not None:\n",
    "          nodo.izq.der.padre = nodo\n",
    "          nodo.izq = nodo.izq.der\n",
    "        else:\n",
    "          nodo.izq = None\n",
    "        self.raiz.der = nodo\n",
    "        nodo.padre = self.raiz\n",
    "      else:\n",
    "        nuevaraiz = nodo.izq\n",
    "        #actualizamos la nueva raiz\n",
    "        if nodo.esIzq():\n",
    "          nodo.padre.izq = nuevaraiz\n",
    "        else:\n",
    "          nodo.padre.der = nuevaraiz\n",
    "        nuevaraiz.padre = nodo.padre\n",
    "        # si el nodo.izq tiene hijo derecho se pasa como izq de nodo\n",
    "        if nuevaraiz.der is not None:\n",
    "          nuevaraiz.der.padre = nodo\n",
    "          nodo.izq = nuevaraiz.der\n",
    "        else:\n",
    "          nodo.izq = None\n",
    "        nuevaraiz.der = nodo\n",
    "        nodo.padre = nuevaraiz\n",
    "    \n",
    "  #Rota el nodo a la izquierda            \n",
    "  def rotacionSimpleIzquierda(self, nodo):\n",
    "    if nodo is not None:\n",
    "      if nodo is self.raiz:\n",
    "        #actualizamos la raiz\n",
    "        self.raiz = nodo.der\n",
    "        self.raiz.padre = None\n",
    "        # si el nodo.der tiene hijo izquierdo se pasa como der de nodo\n",
    "        if nodo.der.izq is not None:\n",
    "          nodo.der.izq.padre = nodo\n",
    "          nodo.der = nodo.der.izq\n",
    "        else:\n",
    "          nodo.der = None\n",
    "        self.raiz.izq = nodo\n",
    "        nodo.padre = self.raiz\n",
    "      else:\n",
    "        nuevaraiz = nodo.der\n",
    "        #actualizamos la nueva raiz\n",
    "        if nodo.esIzq():\n",
    "          nodo.padre.izq = nuevaraiz\n",
    "        else:\n",
    "          nodo.padre.der = nuevaraiz\n",
    "        nuevaraiz.padre = nodo.padre\n",
    "        # si el nodo.der tiene hijo izquierdo se pasa como der de nodo\n",
    "        if nuevaraiz.izq is not None:\n",
    "          nuevaraiz.izq.padre = nodo\n",
    "          nodo.der = nuevaraiz.izq\n",
    "        else:\n",
    "          nodo.der = None\n",
    "        nuevaraiz.izq = nodo\n",
    "        nodo.padre = nuevaraiz\n",
    "              \n",
    "  #Define la doble rotacion a la derecha, a partir de un nodo            \n",
    "  def rotacionIzquierdaDerecha(self, nodo):\n",
    "    self.rotacionSimpleIzquierda(nodo.izq)\n",
    "    self.rotacionSimpleDerecha(nodo)\n",
    "  \n",
    "  #Define la doble rotacion a la izquierda, a partir de un nodo     \n",
    "  def rotacionDerechaIzquierda(self, nodo):\n",
    "    self.rotacionSimpleDerecha(nodo.der)\n",
    "    self.rotacionSimpleIzquierda(nodo)\n",
    "\n",
    "  #Inserta un nodo en el arbol y lo balancea, si es que se desbalanceo\n",
    "  def insertar(self, dato):\n",
    "    #Se inserta el dato usando el metodo de la clase padre\n",
    "    super(ArbolAVL, self).insertar(dato)\n",
    "    #Identificamos donde se inserto el dato\n",
    "    ultimo_nodo_insertado = self.ultimo()\n",
    "      \n",
    "    #Se rebalancean los nodos que hayan quedado desbalanceados\n",
    "    #Y se empieza desde el padre, por que nodo por def no pudo\n",
    "    #haber quedado desbalanceado\n",
    "    self.balancea(ultimo_nodo_insertado.padre)\n",
    "      \n",
    "  #Borra un nodo en el arbol y lo balancea, si es que se desbalanceo\n",
    "  def borra(self, dato):\n",
    "    #Se borra el nodo usando el metodo de la clase padre\n",
    "    borradopadre = self.borra_nodo(self.raiz, dato)\n",
    "    \n",
    "    #Se rebalancean los nodos que hayan quedado desbalanceados\n",
    "    #Y se empieza desde el padre, por que nodo por def, no pudo\n",
    "    #haber quedado desbalanceado\n",
    "    self.balancea(borradopadre)"
   ]
  },
  {
   "attachments": {},
   "cell_type": "markdown",
   "id": "4bdb3052",
   "metadata": {},
   "source": [
    "Se crea un árbol binario de búsqueda balanceado con una raíz que contenga como dato el valor 15."
   ]
  },
  {
   "cell_type": "code",
   "execution_count": 36,
   "id": "5ed399be",
   "metadata": {},
   "outputs": [],
   "source": [
    "y = ArbolAVL(15)"
   ]
  },
  {
   "attachments": {},
   "cell_type": "markdown",
   "id": "c350593f",
   "metadata": {},
   "source": [
    "Se incertan los nodos solicitados."
   ]
  },
  {
   "cell_type": "code",
   "execution_count": 37,
   "id": "68315e52",
   "metadata": {},
   "outputs": [],
   "source": [
    "for i in [10, 5, 16, 17, 9, 20]:\n",
    "    y.insertar(i)"
   ]
  },
  {
   "attachments": {},
   "cell_type": "markdown",
   "id": "6f9305fc",
   "metadata": {},
   "source": [
    "El resultado se muestra a continuación."
   ]
  },
  {
   "attachments": {},
   "cell_type": "markdown",
   "id": "7cff0ab2",
   "metadata": {},
   "source": [
    "![Árbol binario de búsqueda](Arbol2.PNG)"
   ]
  },
  {
   "attachments": {},
   "cell_type": "markdown",
   "id": "3e20a459",
   "metadata": {},
   "source": [
    "Donde cabe notar que al ser un árbol binario balanceado, al insertar nodos se realizan una serie de operaciones algo complicadas para mantener el árbol balanceado."
   ]
  },
  {
   "attachments": {},
   "cell_type": "markdown",
   "id": "1a423d18",
   "metadata": {},
   "source": [
    "### 2. Eliminar el valor 9, **explica cada paso de manera detallada que se requiere para eliminar este valor**"
   ]
  },
  {
   "attachments": {},
   "cell_type": "markdown",
   "id": "562fe17f",
   "metadata": {},
   "source": [
    "**Solución** Para realizar dicha acción la línea de código es la siguiente:"
   ]
  },
  {
   "cell_type": "code",
   "execution_count": 38,
   "id": "acdfc834",
   "metadata": {},
   "outputs": [],
   "source": [
    "y.borra(9)"
   ]
  },
  {
   "attachments": {},
   "cell_type": "markdown",
   "id": "c0075b74",
   "metadata": {},
   "source": [
    "Al trabajar con árboles valanceados se tienen que tener cuidado primero de que el árbol conserve su orden y aparte que sea balanceado.\n",
    "1. Notemos primero que el nodo a eliminar es una hoja por lo que no se tendrá problemas en cuanto a mantener el orden del árbol.\n",
    "2. Sin embargo, al eliminar el nodo 9, el árbol se desvalancea como se muestra a continución. \n",
    "\n"
   ]
  },
  {
   "attachments": {},
   "cell_type": "markdown",
   "id": "ca6506d2",
   "metadata": {},
   "source": [
    "![Alt text](Desval1.PNG)"
   ]
  },
  {
   "attachments": {},
   "cell_type": "markdown",
   "id": "ba358c57",
   "metadata": {},
   "source": [
    "Como se muestra en la figura, el árbol se encuentra \"cargado\" a la derecha, por lo que suena lógico balancearlo realizando una rotación simple a la izquierda. Para ello se realiza lo siguiente:\n",
    "1. Se busca el subárbol que se encuentra desbalanceado. Para ello se calcula el factor de equilibrio y se encuentra donde éste es mayor igual a 2. En este caso se ve que el desbalanceo sucede en el propio árbol principal pues la altura de su hijo derecho (subárbol) es 3 mientras que la de su hijo izquierdo es 1, por lo tanto la diferencia es 2.\n",
    "\n",
    "![Alt text](Desval2.PNG)\n",
    "\n",
    "2. Se procede a realizar la rotación simple hacia la izquieda tomando como nodo \"pivote\" al nodo que contiene al 10. Para ello se ve que el nodo que contiene al 16 debe ser colocado como una nueva raiz, cuyo nuevos nodos hijos izquierdo y derecho son 10 y 17 respectivamente. Luego, nos encontramos en el caso en que el nodo que toma el lugar de raíz, tiene un hijo izquierdo, por lo que para mantener el orden, éste debe ser cedido como hijo al nodo \"pivote\". En este caso el nodo que contiene al dato 15 pasa a ser hijo derecho del nodo 10. \n",
    "Los otros nodos no sufren modificación alguna en sus relaciones, es decir, el nodo 5 sigue siendo hijo izquierdo de 10 y el 20 hijo derecho de 17.\n",
    "\n",
    " ![Alt text](Desval3.PNG)\n",
    "\n",
    "3. Al finalizar este proceso, el árbol está balanceado y se muestra a continuación.\n",
    "\n",
    "![Alt text](Desval4.PNG)\n",
    "\n"
   ]
  },
  {
   "attachments": {},
   "cell_type": "markdown",
   "id": "e1bc508d",
   "metadata": {},
   "source": [
    "### 3. Eliminar el valor 16, **explica cada paso de manera detallada que se requiere para eliminar este valor**"
   ]
  },
  {
   "attachments": {},
   "cell_type": "markdown",
   "id": "54568a44",
   "metadata": {},
   "source": [
    "**Solución** Eliminar el 16 se realiza de la siguiente forma:"
   ]
  },
  {
   "cell_type": "code",
   "execution_count": 39,
   "id": "794a7ad6",
   "metadata": {},
   "outputs": [],
   "source": [
    "y.borra(16)"
   ]
  },
  {
   "attachments": {},
   "cell_type": "markdown",
   "id": "38c9edd4",
   "metadata": {},
   "source": [
    "Por lo visto en clase, se sabe que un árbol balanceado se puede llegar a desvalancear es cuando un nodo es eliminado o insertado. En el caso anterior se vió el caso cuando se elimina una hoja, ahora sin embargo, se busca eliminar el nodo 16 que coincide con ser la raíz del árbol.\n",
    "\n",
    "El agoritmo considera este caso particular y para ello realiza las siguientes acciones:\n",
    "\n",
    "1. Como el raíz tiene tanto hijo derecho como hijo izquierdo, busca al mínimo del subárbol derecho, es decir, el mínimo de los mayores al dato de la raíz. En este caso es 17.\n",
    "\n",
    "![Alt text](Desval5.PNG)\n",
    "\n",
    "![Alt text](Desval6.PNG)\n",
    "\n",
    "2. Se cambia el valor del dato en la raiz por este valor hallado y se guarda el padre de este nodo como una variable auxiliar. Se llega al siguiente árbol.\n",
    "\n",
    "![Alt text](Desval7.PNG)\n",
    "\n",
    "3. Luego, de forma recursiva, se manda a llamar a la misma función `borrar_nodo()` pero esta vez los parámetros son que elimine el nodo con el valor mínimo entre los mayores, es decir, en el diagrama se desea eliminar el segundo nodo con dato 17.\n",
    "\n",
    "![Alt text](Desval8.PNG)\n",
    "\n",
    "4. Este caso es sencillo pues se trata de un nodo que solo tiene un hijo, en este caso derecho, por lo que la acción de eliminarlo simplemente consiste en subir a su hijo a la posición que el nodo ocupaba (en nodo con dato 20) y todo el árbol permanece igual. El resultado se muestra a continuación.\n",
    "\n",
    "![Alt text](Desval9.PNG)\n",
    "\n",
    "5. El árbol no se desbalancea por lo que el resultado es el correcto."
   ]
  },
  {
   "attachments": {},
   "cell_type": "markdown",
   "id": "ab20a9fd",
   "metadata": {},
   "source": [
    "### 4. Insertar 1, **explica cada paso de manera detallada que se requiere para insertar este valor**"
   ]
  },
  {
   "attachments": {},
   "cell_type": "markdown",
   "id": "795f339f",
   "metadata": {},
   "source": [
    "**Solución.** Esta acción se lleva a cabo de la siguiente forma"
   ]
  },
  {
   "cell_type": "code",
   "execution_count": 40,
   "id": "536c206e",
   "metadata": {},
   "outputs": [],
   "source": [
    "y.insertar(1)"
   ]
  },
  {
   "attachments": {},
   "cell_type": "markdown",
   "id": "955ec607",
   "metadata": {},
   "source": [
    "Lo que realiza el algoritmo es primero insertar el nodo 1 y tratar al árbol como un ABB, lugo balancea al árbol si es necesario. Por lo tanto se realizan las siguientes acciones:\n",
    "1. El nodo se incertará desde la raíz, por lo que el valor de la raíz se compara con el valor a insertar. \n",
    "2. Como 1 < 17, se llama a la función insertar de forma recursiva esta vez insertando el nodo con valor 1 pero iniciando en raiz.izq. Por lo tanto se realiza lo siguiente:\n",
    "   * 1. Se compara el dato 1 ahora con 10\n",
    "   * 2. Como 1 < 10, entonces se llama nuevamente a insertar pero esta vez inciando en el nodo 5, por lo tanto se realiza lo siguiente:\n",
    "       + 1. Se compara el dato 1 con 5\n",
    "       + 2. Como 1 < 5 entonces se manda a llamar a la función insertar pero esta vez iniciando en Nodo(5).izq.\n",
    "       + 3. Como Nodo(5).izq es Null entonces se cae finalmente en el caso base:\n",
    "           ++ Se crea un nuevo nodo con dato igual a 1, cuyo padre es 5 (el último nodo con el que se comparó) y se hace explicíto que el nodo Nodo(1) es hijo izquierdo de Nodo(5). El resultado se muestra a continuación.\n",
    "\n",
    "        ![Alt text](Desval10.PNG)\n",
    "\n",
    "           "
   ]
  },
  {
   "attachments": {},
   "cell_type": "markdown",
   "id": "145e3543",
   "metadata": {},
   "source": [
    "Luego el árbol resultante se encuentra desbalanceado, por lo que se realizan las siguientes acciones:\n",
    "1. Se localiza que el desbalanceo ocurre en el árbol principal.\n",
    "2. Se realiza una rotación simple hacia la derecha tomando como nodo base el diez, es decir:\n",
    "    1. El nodo con valor 10 se sube a la posición de raíz.\n",
    "    2. El nodo con valor 17 se vuelve hijo derecho del nodo con valor 10.\n",
    "    3. Se tiene el caso en el que el nodo bajo el cual se centra la rotación realizada presenta un hijo, en este caso el nodo con valor 15. Por lo tanto este nod es cedido al nodo 17 como hijo izquierdo, tal como en el ejercicio anterior.\n",
    "    4. El árbol resultante ya está balanceado y se muestra a continuación.\n",
    "\n",
    "        ![Alt text](Desval11.PNG)  \n",
    "    "
   ]
  },
  {
   "attachments": {},
   "cell_type": "markdown",
   "id": "6ac17ce8",
   "metadata": {},
   "source": [
    "### 5. Después de haber realizado los puntos anteriores, muestra el resultado de recorrer el ABB en: enorden, preorden y postorden."
   ]
  },
  {
   "attachments": {},
   "cell_type": "markdown",
   "id": "385abae9",
   "metadata": {},
   "source": [
    "**Solución** \n",
    "\n",
    "El recorrido, como su nombre lo indica, mostrará los nodos ordenados de forma ascendente como se muestra a continuación. "
   ]
  },
  {
   "cell_type": "code",
   "execution_count": 41,
   "id": "34995721",
   "metadata": {},
   "outputs": [
    {
     "name": "stdout",
     "output_type": "stream",
     "text": [
      "1\n",
      "5\n",
      "10\n",
      "15\n",
      "17\n",
      "20\n"
     ]
    }
   ],
   "source": [
    "y.recorrido_enorden(y.raiz)"
   ]
  },
  {
   "attachments": {},
   "cell_type": "markdown",
   "id": "4110ef3e",
   "metadata": {},
   "source": [
    "El recorrido en postorden muestra los suárboles constituyentes de forma recursova mostrando el hijo izquierdo, hijo derecho y luego raíz para cada uno."
   ]
  },
  {
   "cell_type": "code",
   "execution_count": 42,
   "id": "1f2babaa",
   "metadata": {},
   "outputs": [
    {
     "name": "stdout",
     "output_type": "stream",
     "text": [
      "1\n",
      "5\n",
      "15\n",
      "20\n",
      "17\n",
      "10\n"
     ]
    }
   ],
   "source": [
    "y.recorrido_postorden(y.raiz)"
   ]
  },
  {
   "attachments": {},
   "cell_type": "markdown",
   "id": "f205a2b5",
   "metadata": {},
   "source": [
    "Finalmente, el recorrido preorden muestra de forma recursiva los subárboles constituyentes mostrando primero la raíz luego hijo izquierdo y finalmente el hijo derecho."
   ]
  },
  {
   "cell_type": "code",
   "execution_count": 44,
   "id": "d1d647e6",
   "metadata": {},
   "outputs": [
    {
     "name": "stdout",
     "output_type": "stream",
     "text": [
      "10\n",
      "5\n",
      "1\n",
      "17\n",
      "15\n",
      "20\n"
     ]
    }
   ],
   "source": [
    "y.recorrido_preorden(y.raiz)"
   ]
  },
  {
   "attachments": {},
   "cell_type": "markdown",
   "id": "11015f05",
   "metadata": {},
   "source": [
    "## Análisis"
   ]
  },
  {
   "attachments": {},
   "cell_type": "markdown",
   "id": "8f75cfe8",
   "metadata": {},
   "source": [
    "#### 6. En una subsección llamada análisis, indica cuál es el peor caso para este tipo de árboles y explica a qué orden de complejidad pertenecen las operaciones: eliminar árbol, buscar, insertar y borrar nodo."
   ]
  },
  {
   "attachments": {},
   "cell_type": "markdown",
   "id": "224d96f4",
   "metadata": {},
   "source": [
    "### Solución. "
   ]
  },
  {
   "attachments": {},
   "cell_type": "markdown",
   "id": "713efee6",
   "metadata": {},
   "source": [
    "**Eliminar Árbol**\n",
    "\n",
    "Como se sabe, este método eliminar fue agregado desde que se definió la clase árbol binario, es decir, en este caso es irrelevante que se trabaja con un árbol bianario de búsqueda balanceado.\n",
    "\n",
    "Así, como éste método únicamente cambia la raíz del árbol a un nodo None, acción que toma un gasto operacional constante, y luego únicamente la misma computadora se encarga de limpiar el lugar en la memoria en la que se encontraba el árbol, entonces se deduce que \n",
    "\n",
    "$$ eliminar \\ arbol()  \\in O(1)  $$ \n",
    " \n",
    "\n",
    "**Buscar**\n",
    "\n",
    "Para este método, la característica de que sea balanceado es fundamental. \n",
    "\n",
    "Sea $T(n)$ el número de operaciones que le toma al algoritmo buscar un elmento de un árbol binario balanceado. Dado que es propiamente un árbol balanceado, el peor caso en realidad no existe, pues es imposible que el árbol sea un árbol degenerado y en general todos los árboles balanceados de tamaño $n$ son similares.\n",
    "\n",
    "Luego, recordando que este método fue creado de forma recursiva, el algoritmo busca el dato dado en la raíz primeramente y supongamos que le toma un tiempo constante $a_1$. Supongamos el peor caso, es decir, el dato no está en la raíz. Lo que sigue es comparar el dato de la raíz con el dato a buscar.\n",
    "\n",
    "+ Si el dato a buscar es mayor, entonces se busca el dato en el árbol hijo derecho (descartando todo el árbol hijo izquierdo).\n",
    "+ Si el dato a buscar es menor, entonces se busca el dato en el árbol hijo izquierdo (descartando todo el árbol hijo derecho).\n",
    "\n",
    "Notando que en un árbol binario de búsqueda balanceado, el tamaño del subárbol hijo derecho tiene dimensión $n/2$ así como el subárbol hijo izquierdo entonces \n",
    "\n",
    "\\begin{equation}\n",
    "     T(n) = \\left\\{\n",
    "\t       \\begin{array}{ll}\n",
    "\t\t a_1     & \\mathrm{si\\ } n =  1 \\\\\n",
    "\t\t T(n/2) + a_2  & \\mathrm{si\\ } n \\geq 2\n",
    "\t       \\end{array}\n",
    "\t     \\right.\n",
    "\\end{equation}\n",
    "Por lo tanto,\n",
    "\n",
    "$$T(n) = a_2 + T(n/2) = a_2  + a_2 + T(n/2^2) = \\cdots = i a_2 + T(n/2^i) = \\cdots $$\n",
    "\n",
    "Sea $k$ tal que $ n = 2^k $. Por lo tanto, realizando $k$ pasos en la expresión anterior se obtiene que \n",
    "\n",
    "$$T(n) =  a_2k + T(n/2^k) = a_2k + T(2^k/2^k) = a_2k + T(1) = a_2k + a_1  = a_2 \\log_2(n) + a_1$$\n",
    "\n",
    "Es claro que se debe acotar el primer elemento. Por lo tanto, se define $k = a_2$, $g(n) = \\log_2(n)$ y $n_0 = 1$. Entonces\n",
    "\n",
    "$$|T(n)| \\leq k|g(n)| \\quad \\forall n \\geq n_0$$\n",
    "\n",
    "$$\\therefore \\quad buscar() \\in O(\\log_2(n))$$\n",
    "\n",
    "\n",
    "**Insertar.**\n",
    "\n",
    "Sea $T(n)$ el número de operaciones que le toma al algoritmo insertar un elemento. Este método fue definido para los árboles `ABB`. Supóngase el peor caso que corresponde al de tener un árbol balanceado en el cual se desea insertar un nodo que terminará como hoja.\n",
    "\n",
    "Entonces primero se compara el dato a insertar con la raíz, cuyo costo temporal es $a_1$. Como suponemos el pero caso, supongamos que éstos difieren. \n",
    "\n",
    "+ Si el dato es menor se aplica resursivamente la función insertar al subárbol hijo izquierdo cuya longitud promedio para un árbol balanceado es $n/2$.\n",
    "+ Si el dato es mayor se aplica resursivamente la función insertar al subárbol hijo derecho cuya longitud promedio para un árbol balanceado es $n/2$\n",
    "\n",
    "Se llegará al caso base donde $n = 1$. Aquí se inserta el nodo nuevo y se ajustan sus atributos como su padre. Suponemos que está acción tiene un costo $a_2$.\n",
    "\n",
    "Es decir,\n",
    "\n",
    "\\begin{equation}\n",
    "     T(n) = \\left\\{\n",
    "\t       \\begin{array}{ll}\n",
    "\t\t a_2     & \\mathrm{si\\ } n =  1 \\\\\n",
    "\t\t T(n/2) + a_1  & \\mathrm{si\\ } n \\geq 2\n",
    "\t       \\end{array}\n",
    "\t     \\right.\n",
    "\\end{equation}\n",
    "\n",
    "$$T(n) = a_1 + T(n/2) = a_1  + a_1 + T(n/2^2) = \\cdots = i a_1 + T(n/2^i) = \\cdots $$\n",
    "\n",
    "Sea $k$ tal que $ n = 2^k $. Por lo tanto, realizando $k$ pasos en la expresión anterior se obtiene que \n",
    "\n",
    "$$T(n) =  a_1k + T(n/2^k) = a_2k + T(2^k/2^k) = a_2k + T(1) = a_1k + a_2  = a_2 \\log_2(n) + a_1$$\n",
    "\n",
    "Por último, notamos que al insertar un elemento es posible desbalancear el árbol, sin embargo para resolver esto se realizan a lo más dos rotaciones simples. Se puede suponer que este costo es constante (no depende explícitamente de la langitud del árbol) $b$.\n",
    "$$ T(n) = a_2 \\log_2(n) + a_1 + b $$\n",
    "\n",
    "Luego, es claro que basta acotar $\\log_2(n)$, por lo tanto sea $g(n) = \\log_2(n)$, $k = a_2$ y $n_0 = 1$. Entonces\n",
    "\n",
    "$$|T(n)| \\leq k|g(n)| \\quad \\forall n \\geq n_0$$\n",
    "\n",
    "$$\\therefore \\quad insertar() \\in O(\\log_2(n))$$\n",
    "\n",
    "**Borrar nodo**\n",
    "\n",
    "Basta notar que para eliminar un nodo primero éste debe buscarse. Por lo tanto, sea $T(n)$ la cantidad de operaciones que le toma al algoritmo eliminar un nodo. Así, después de encontrar el nodo a eliminar se realiza la eliminación propiamente, es decir, se realizan ajustes de los atributos de nodos adyacentes al nodo eliminado. Se puede duponer sin pérdida de generalidad que estás acciones toman un tiempo $\\alpha$ realizarse. Por lo tanto\n",
    "\n",
    "$$T(n) = c\\log_2(n) + \\alpha$$\n",
    "\n",
    "para alguna $c$. Por lo tanto\n",
    "\n",
    "$$\\therefore \\quad eliminar \\ nodo() \\in O(\\log_2(n))$$\n",
    "\n",
    "\n",
    "\n",
    "\n"
   ]
  },
  {
   "attachments": {},
   "cell_type": "markdown",
   "id": "07d6c953",
   "metadata": {},
   "source": [
    "### Tablas Hash"
   ]
  },
  {
   "attachments": {},
   "cell_type": "markdown",
   "id": "13c0884e",
   "metadata": {},
   "source": [
    "#### Usando wget incluir en la sesión de GoogleColab el archivo llamado inteligencia.txt que se encuentra en la URL"
   ]
  },
  {
   "attachments": {},
   "cell_type": "markdown",
   "id": "3d77e7b6",
   "metadata": {},
   "source": [
    "**Solución** Primero cargamos la función necesaria para realizar esta tarea."
   ]
  },
  {
   "cell_type": "code",
   "execution_count": 3,
   "id": "322606ae",
   "metadata": {},
   "outputs": [
    {
     "name": "stdout",
     "output_type": "stream",
     "text": [
      "Requirement already satisfied: wget in c:\\users\\villanueva alcala\\miniconda3\\lib\\site-packages (3.2)\n",
      "Note: you may need to restart the kernel to use updated packages.\n"
     ]
    }
   ],
   "source": [
    "pip install wget"
   ]
  },
  {
   "cell_type": "code",
   "execution_count": 45,
   "id": "8dba17d3",
   "metadata": {},
   "outputs": [],
   "source": [
    "import wget\n",
    "import re "
   ]
  },
  {
   "attachments": {},
   "cell_type": "markdown",
   "id": "5647547f",
   "metadata": {},
   "source": [
    "Luego se descarga el archivo"
   ]
  },
  {
   "cell_type": "code",
   "execution_count": 46,
   "id": "3b306126",
   "metadata": {},
   "outputs": [],
   "source": [
    "arch = wget.download(\"https://raw.githubusercontent.com/jugernaut/ManejoDatos/desarrollo/utils/inteligencia.txt\")"
   ]
  },
  {
   "attachments": {},
   "cell_type": "markdown",
   "id": "7c950eb0",
   "metadata": {},
   "source": [
    "+ Generar un diccionario con la estructura {‘palabra1’:ocurrencia1, ‘palabra2’:ocurrencia2,..,’palabraN’:ocurrenciaN}. Dónde palabra (key) es alguna palabra y ocurrencia (value) es el número de veces que aparece esta palabra.\n",
    "Este diccionario debe contener todas las palabras del documento inteligencia.txt con su respectiva ocurrencia."
   ]
  },
  {
   "attachments": {},
   "cell_type": "markdown",
   "id": "5a3817cf",
   "metadata": {},
   "source": [
    "**Solución** Dado que se solcita contar ocurrencias de las palabras, se carga una biblioteca útil para esa tarea"
   ]
  },
  {
   "cell_type": "code",
   "execution_count": 47,
   "id": "a2ddeec1",
   "metadata": {},
   "outputs": [],
   "source": [
    "from collections import Counter"
   ]
  },
  {
   "attachments": {},
   "cell_type": "markdown",
   "id": "65d8eb21",
   "metadata": {},
   "source": [
    "Luego,  como queremos tomar cada una de las palabras del texto, lo separamos por palabras, para ello se usa la función `split()` utilizando como indicador de separación un espacio, pero en formato RegEx, es decir, `\\s`."
   ]
  },
  {
   "cell_type": "code",
   "execution_count": 48,
   "id": "e141eddb",
   "metadata": {},
   "outputs": [
    {
     "name": "stdout",
     "output_type": "stream",
     "text": [
      "Ahora que ya conoce la definición de la IA y más de su historia, la mejor forma de profundizar en el tema es conocer las principales técnicas de la IA, específicamente, los casos en los que la Inteligencia artificial se utiliza para los negocios.\n",
      "\n",
      "Aprendizaje automático\n",
      "Generalmente, el concepto de Aprendizaje automático se confunde con el de “IA débil”. Es en este campo en donde los avances más importantes de la IA se están llevando a cabo. En términos prácticos, “el Aprendizaje automático es la ciencia que se encarga de hacer que las computadoras realicen acciones sin necesidad de programación explícita”. La idea principal aquí es que se les puede proporcionar datos a los algoritmos de Aprendizaje automático y luego usarlos para saber cómo hacer predicciones o guiar decisiones.\n",
      "\n",
      "Algunos ejemplos de algoritmos de Aprendizaje automático incluyen los siguientes: diagramas de decisiones, algoritmos de agrupamiento, algoritmos genéticos, redes Bayesianas y Aprendizaje profundo.  \n",
      "\n",
      "Aprendizaje profundo                                                                                      \n",
      "¿Recuerda cuando Google anunció un algoritmo que encontraba videos de gatos en Youtube? (Si desea refrescar su memoria haga clic aquí). Pues bien, esto es Aprendizaje profundo, una técnica de Aprendizaje automático que utiliza redes neuronales (el concepto de que las neuronas se pueden simular mediante unidades computacionales) para realizar tareas de clasificación (piense en clasificar una imagen de un gato, de un perro o personas, por ejemplo).  \n",
      "\n",
      "Algunos ejemplos de aplicaciones prácticas del Aprendizaje profundo son las siguientes: identificación de vehículos, peatones y placas de matrícula de vehículos autónomos, reconocimiento de imagen, traducción y procesamiento de lenguaje natural.  \n",
      "\n",
      "Descubrimiento de datos inteligentes\n",
      "Es el próximo paso en soluciones de IE (Inteligencia empresarial). La idea consiste en permitir la automatización total del ciclo de la IE: la incorporación y preparación de datos, el análisis predictivo y los patrones y la identificación de hipótesis. Este es un ejemplo interesante de la recuperación de datos inteligentes en acción. La información que ninguna herramienta de IE había descubierto.  \n",
      "\n",
      "Análisis predictivo\n",
      "Piense en ese momento en el que está contratando un seguro para auto y el agente le hace una serie de preguntas Estas preguntas están relacionadas a las variables que influyen en su riesgo. Detrás de estas preguntas se encuentra un modelo predictivo que informa sobre la probabilidad de que ocurra un accidente con base en su edad, código postal, género, marca de auto, etc. Es el mismo principio que se emplea en los modelos predictivos de crédito para identificar a los buenos y malos pagadores. Por lo tanto, el concepto principal de análisis predictivo (o modelado) significa que se puede utilizar un número de variables (ingresos, código postal, edad, etc.) combinadas con resultados (por ejemplo, buen o mal pagador) para generar un modelo que proporcione una puntuación (un número entre 0 y 1) que representa la probabilidad de un evento (por ejemplo, pago, migración de clientes, accidente, etc.).\n",
      "\n",
      "Los casos de uso en los negocios son amplios: modelos de crédito, modelos de segmentación de clientes (agrupamiento), modelos de probabilidad de compra y modelos de migración de clientes, entre otros. \n",
      "\n"
     ]
    }
   ],
   "source": [
    "# Se abre el archivo que se estudiará\n",
    "archivo = open(\"inteligencia.txt\")\n",
    "#Se lee el contenido del archivo\n",
    "contenido = archivo.read()\n",
    "#Se muestra el contenido del archivo\n",
    "print(contenido)"
   ]
  },
  {
   "cell_type": "code",
   "execution_count": 49,
   "id": "5d446fd6",
   "metadata": {},
   "outputs": [
    {
     "name": "stdout",
     "output_type": "stream",
     "text": [
      "['Ahora', 'que', 'ya', 'conoce', 'la', 'definición', 'de', 'la', 'IA', 'y', 'más', 'de', 'su', 'historia,', 'la', 'mejor', 'forma', 'de', 'profundizar', 'en', 'el', 'tema', 'es', 'conocer', 'las', 'principales', 'técnicas', 'de', 'la', 'IA,', 'específicamente,', 'los', 'casos', 'en', 'los', 'que', 'la', 'Inteligencia', 'artificial', 'se', 'utiliza', 'para', 'los', 'negocios.', 'Aprendizaje', 'automático', 'Generalmente,', 'el', 'concepto', 'de', 'Aprendizaje', 'automático', 'se', 'confunde', 'con', 'el', 'de', '“IA', 'débil”.', 'Es', 'en', 'este', 'campo', 'en', 'donde', 'los', 'avances', 'más', 'importantes', 'de', 'la', 'IA', 'se', 'están', 'llevando', 'a', 'cabo.', 'En', 'términos', 'prácticos,', '“el', 'Aprendizaje', 'automático', 'es', 'la', 'ciencia', 'que', 'se', 'encarga', 'de', 'hacer', 'que', 'las', 'computadoras', 'realicen', 'acciones', 'sin', 'necesidad', 'de', 'programación', 'explícita”.', 'La', 'idea', 'principal', 'aquí', 'es', 'que', 'se', 'les', 'puede', 'proporcionar', 'datos', 'a', 'los', 'algoritmos', 'de', 'Aprendizaje', 'automático', 'y', 'luego', 'usarlos', 'para', 'saber', 'cómo', 'hacer', 'predicciones', 'o', 'guiar', 'decisiones.', 'Algunos', 'ejemplos', 'de', 'algoritmos', 'de', 'Aprendizaje', 'automático', 'incluyen', 'los', 'siguientes:', 'diagramas', 'de', 'decisiones,', 'algoritmos', 'de', 'agrupamiento,', 'algoritmos', 'genéticos,', 'redes', 'Bayesianas', 'y', 'Aprendizaje', 'profundo.', 'Aprendizaje', 'profundo', '¿Recuerda', 'cuando', 'Google', 'anunció', 'un', 'algoritmo', 'que', 'encontraba', 'videos', 'de', 'gatos', 'en', 'Youtube?', '(Si', 'desea', 'refrescar', 'su', 'memoria', 'haga', 'clic', 'aquí).', 'Pues', 'bien,', 'esto', 'es', 'Aprendizaje', 'profundo,', 'una', 'técnica', 'de', 'Aprendizaje', 'automático', 'que', 'utiliza', 'redes', 'neuronales', '(el', 'concepto', 'de', 'que', 'las', 'neuronas', 'se', 'pueden', 'simular', 'mediante', 'unidades', 'computacionales)', 'para', 'realizar', 'tareas', 'de', 'clasificación', '(piense', 'en', 'clasificar', 'una', 'imagen', 'de', 'un', 'gato,', 'de', 'un', 'perro', 'o', 'personas,', 'por', 'ejemplo).', 'Algunos', 'ejemplos', 'de', 'aplicaciones', 'prácticas', 'del', 'Aprendizaje', 'profundo', 'son', 'las', 'siguientes:', 'identificación', 'de', 'vehículos,', 'peatones', 'y', 'placas', 'de', 'matrícula', 'de', 'vehículos', 'autónomos,', 'reconocimiento', 'de', 'imagen,', 'traducción', 'y', 'procesamiento', 'de', 'lenguaje', 'natural.', 'Descubrimiento', 'de', 'datos', 'inteligentes', 'Es', 'el', 'próximo', 'paso', 'en', 'soluciones', 'de', 'IE', '(Inteligencia', 'empresarial).', 'La', 'idea', 'consiste', 'en', 'permitir', 'la', 'automatización', 'total', 'del', 'ciclo', 'de', 'la', 'IE:', 'la', 'incorporación', 'y', 'preparación', 'de', 'datos,', 'el', 'análisis', 'predictivo', 'y', 'los', 'patrones', 'y', 'la', 'identificación', 'de', 'hipótesis.', 'Este', 'es', 'un', 'ejemplo', 'interesante', 'de', 'la', 'recuperación', 'de', 'datos', 'inteligentes', 'en', 'acción.', 'La', 'información', 'que', 'ninguna', 'herramienta', 'de', 'IE', 'había', 'descubierto.', 'Análisis', 'predictivo', 'Piense', 'en', 'ese', 'momento', 'en', 'el', 'que', 'está', 'contratando', 'un', 'seguro', 'para', 'auto', 'y', 'el', 'agente', 'le', 'hace', 'una', 'serie', 'de', 'preguntas', 'Estas', 'preguntas', 'están', 'relacionadas', 'a', 'las', 'variables', 'que', 'influyen', 'en', 'su', 'riesgo.', 'Detrás', 'de', 'estas', 'preguntas', 'se', 'encuentra', 'un', 'modelo', 'predictivo', 'que', 'informa', 'sobre', 'la', 'probabilidad', 'de', 'que', 'ocurra', 'un', 'accidente', 'con', 'base', 'en', 'su', 'edad,', 'código', 'postal,', 'género,', 'marca', 'de', 'auto,', 'etc.', 'Es', 'el', 'mismo', 'principio', 'que', 'se', 'emplea', 'en', 'los', 'modelos', 'predictivos', 'de', 'crédito', 'para', 'identificar', 'a', 'los', 'buenos', 'y', 'malos', 'pagadores.', 'Por', 'lo', 'tanto,', 'el', 'concepto', 'principal', 'de', 'análisis', 'predictivo', '(o', 'modelado)', 'significa', 'que', 'se', 'puede', 'utilizar', 'un', 'número', 'de', 'variables', '(ingresos,', 'código', 'postal,', 'edad,', 'etc.)', 'combinadas', 'con', 'resultados', '(por', 'ejemplo,', 'buen', 'o', 'mal', 'pagador)', 'para', 'generar', 'un', 'modelo', 'que', 'proporcione', 'una', 'puntuación', '(un', 'número', 'entre', '0', 'y', '1)', 'que', 'representa', 'la', 'probabilidad', 'de', 'un', 'evento', '(por', 'ejemplo,', 'pago,', 'migración', 'de', 'clientes,', 'accidente,', 'etc.).', 'Los', 'casos', 'de', 'uso', 'en', 'los', 'negocios', 'son', 'amplios:', 'modelos', 'de', 'crédito,', 'modelos', 'de', 'segmentación', 'de', 'clientes', '(agrupamiento),', 'modelos', 'de', 'probabilidad', 'de', 'compra', 'y', 'modelos', 'de', 'migración', 'de', 'clientes,', 'entre', 'otros.', '']\n"
     ]
    }
   ],
   "source": [
    "# Se separa el archivo por palabras.\n",
    "lista = re.split('\\s+', contenido)\n",
    "# Se imprime la lista para verificar el contenido\n",
    "print(lista)"
   ]
  },
  {
   "attachments": {},
   "cell_type": "markdown",
   "id": "1863e8b7",
   "metadata": {},
   "source": [
    "Ahora, se crea el diccionario de palabras cuyo valor sea la ocurrencia. "
   ]
  },
  {
   "cell_type": "code",
   "execution_count": 50,
   "id": "4ac174c8",
   "metadata": {},
   "outputs": [],
   "source": [
    "#Se define el diccionario vacío\n",
    "Diccionario = {}"
   ]
  },
  {
   "attachments": {},
   "cell_type": "markdown",
   "id": "cfb027fe",
   "metadata": {},
   "source": [
    "Se comenzará a llenar este diccionario con palabras, donde el valor sea su ocurrencia. Para cuantificar esto último, se usa la función `get`. Esta función busca una palabra (llave) en el diccionario y al encontrarla nos devuelve su valor. Si no está dicha palabra en el diccionario arroja un valor que se le puede indicar. Entonces se forma el diccionario de la sigueinte forma: "
   ]
  },
  {
   "cell_type": "code",
   "execution_count": 51,
   "id": "6fff376f",
   "metadata": {},
   "outputs": [],
   "source": [
    "#Se van tomando elementos de la lista de palabras obtenida anteriormente.\n",
    "for i in lista:\n",
    "    #Se incluye cada uno de los elementos de la lista en el diccionario. La función get busca cada palabra en el\n",
    "    # diccionario. Si se encuentra, nos arroja su valor, es decir, su ocurrencia en el texto y se le suma una \n",
    "    # ocurrencia más. Si no está la palabra en el diccionario (palabra nueva), la agrega, mientras que get arroja 0\n",
    "    # y se le suma uno, es decir, el valor de las palabras nuevas será 1 (primera ocurrencia). \n",
    "    Diccionario[i] = Diccionario.get(i,0) + 1"
   ]
  },
  {
   "attachments": {},
   "cell_type": "markdown",
   "id": "98fe84da",
   "metadata": {},
   "source": [
    "Finalmente se muestra el diccionario."
   ]
  },
  {
   "cell_type": "code",
   "execution_count": 52,
   "id": "1ecaaeab",
   "metadata": {},
   "outputs": [
    {
     "name": "stdout",
     "output_type": "stream",
     "text": [
      "{'Ahora': 1, 'que': 17, 'ya': 1, 'conoce': 1, 'la': 14, 'definición': 1, 'de': 51, 'IA': 2, 'y': 12, 'más': 2, 'su': 4, 'historia,': 1, 'mejor': 1, 'forma': 1, 'profundizar': 1, 'en': 15, 'el': 9, 'tema': 1, 'es': 5, 'conocer': 1, 'las': 5, 'principales': 1, 'técnicas': 1, 'IA,': 1, 'específicamente,': 1, 'los': 10, 'casos': 2, 'Inteligencia': 1, 'artificial': 1, 'se': 9, 'utiliza': 2, 'para': 6, 'negocios.': 1, 'Aprendizaje': 10, 'automático': 6, 'Generalmente,': 1, 'concepto': 3, 'confunde': 1, 'con': 3, '“IA': 1, 'débil”.': 1, 'Es': 3, 'este': 1, 'campo': 1, 'donde': 1, 'avances': 1, 'importantes': 1, 'están': 2, 'llevando': 1, 'a': 4, 'cabo.': 1, 'En': 1, 'términos': 1, 'prácticos,': 1, '“el': 1, 'ciencia': 1, 'encarga': 1, 'hacer': 2, 'computadoras': 1, 'realicen': 1, 'acciones': 1, 'sin': 1, 'necesidad': 1, 'programación': 1, 'explícita”.': 1, 'La': 3, 'idea': 2, 'principal': 2, 'aquí': 1, 'les': 1, 'puede': 2, 'proporcionar': 1, 'datos': 3, 'algoritmos': 4, 'luego': 1, 'usarlos': 1, 'saber': 1, 'cómo': 1, 'predicciones': 1, 'o': 3, 'guiar': 1, 'decisiones.': 1, 'Algunos': 2, 'ejemplos': 2, 'incluyen': 1, 'siguientes:': 2, 'diagramas': 1, 'decisiones,': 1, 'agrupamiento,': 1, 'genéticos,': 1, 'redes': 2, 'Bayesianas': 1, 'profundo.': 1, 'profundo': 2, '¿Recuerda': 1, 'cuando': 1, 'Google': 1, 'anunció': 1, 'un': 10, 'algoritmo': 1, 'encontraba': 1, 'videos': 1, 'gatos': 1, 'Youtube?': 1, '(Si': 1, 'desea': 1, 'refrescar': 1, 'memoria': 1, 'haga': 1, 'clic': 1, 'aquí).': 1, 'Pues': 1, 'bien,': 1, 'esto': 1, 'profundo,': 1, 'una': 4, 'técnica': 1, 'neuronales': 1, '(el': 1, 'neuronas': 1, 'pueden': 1, 'simular': 1, 'mediante': 1, 'unidades': 1, 'computacionales)': 1, 'realizar': 1, 'tareas': 1, 'clasificación': 1, '(piense': 1, 'clasificar': 1, 'imagen': 1, 'gato,': 1, 'perro': 1, 'personas,': 1, 'por': 1, 'ejemplo).': 1, 'aplicaciones': 1, 'prácticas': 1, 'del': 2, 'son': 2, 'identificación': 2, 'vehículos,': 1, 'peatones': 1, 'placas': 1, 'matrícula': 1, 'vehículos': 1, 'autónomos,': 1, 'reconocimiento': 1, 'imagen,': 1, 'traducción': 1, 'procesamiento': 1, 'lenguaje': 1, 'natural.': 1, 'Descubrimiento': 1, 'inteligentes': 2, 'próximo': 1, 'paso': 1, 'soluciones': 1, 'IE': 2, '(Inteligencia': 1, 'empresarial).': 1, 'consiste': 1, 'permitir': 1, 'automatización': 1, 'total': 1, 'ciclo': 1, 'IE:': 1, 'incorporación': 1, 'preparación': 1, 'datos,': 1, 'análisis': 2, 'predictivo': 4, 'patrones': 1, 'hipótesis.': 1, 'Este': 1, 'ejemplo': 1, 'interesante': 1, 'recuperación': 1, 'acción.': 1, 'información': 1, 'ninguna': 1, 'herramienta': 1, 'había': 1, 'descubierto.': 1, 'Análisis': 1, 'Piense': 1, 'ese': 1, 'momento': 1, 'está': 1, 'contratando': 1, 'seguro': 1, 'auto': 1, 'agente': 1, 'le': 1, 'hace': 1, 'serie': 1, 'preguntas': 3, 'Estas': 1, 'relacionadas': 1, 'variables': 2, 'influyen': 1, 'riesgo.': 1, 'Detrás': 1, 'estas': 1, 'encuentra': 1, 'modelo': 2, 'informa': 1, 'sobre': 1, 'probabilidad': 3, 'ocurra': 1, 'accidente': 1, 'base': 1, 'edad,': 2, 'código': 2, 'postal,': 2, 'género,': 1, 'marca': 1, 'auto,': 1, 'etc.': 1, 'mismo': 1, 'principio': 1, 'emplea': 1, 'modelos': 5, 'predictivos': 1, 'crédito': 1, 'identificar': 1, 'buenos': 1, 'malos': 1, 'pagadores.': 1, 'Por': 1, 'lo': 1, 'tanto,': 1, '(o': 1, 'modelado)': 1, 'significa': 1, 'utilizar': 1, 'número': 2, '(ingresos,': 1, 'etc.)': 1, 'combinadas': 1, 'resultados': 1, '(por': 2, 'ejemplo,': 2, 'buen': 1, 'mal': 1, 'pagador)': 1, 'generar': 1, 'proporcione': 1, 'puntuación': 1, '(un': 1, 'entre': 2, '0': 1, '1)': 1, 'representa': 1, 'evento': 1, 'pago,': 1, 'migración': 2, 'clientes,': 2, 'accidente,': 1, 'etc.).': 1, 'Los': 1, 'uso': 1, 'negocios': 1, 'amplios:': 1, 'crédito,': 1, 'segmentación': 1, 'clientes': 1, '(agrupamiento),': 1, 'compra': 1, 'otros.': 1, '': 1}\n"
     ]
    }
   ],
   "source": [
    "print(Diccionario)"
   ]
  },
  {
   "attachments": {},
   "cell_type": "markdown",
   "id": "7c4829b2",
   "metadata": {},
   "source": [
    "+ Una vez hecho esto sin considerar artículos preposiciones o pronombres, en una subsección llamada \"De que trato el texto\" debes indicar cuál fue la palabra que más se repite en el documento inteligencia.txt."
   ]
  },
  {
   "attachments": {},
   "cell_type": "markdown",
   "id": "870b03f7",
   "metadata": {},
   "source": [
    "**Solución**\n",
    "\n",
    "Para tener una mejor perspectiva de la temática del archivo se creará un diccionario nuevo donde solo se agreguen palabras con contenido verdaderamente útil, es decir, quitando palabras del español que sean por ejemplo conjunciones, preposiciones, pronombres, etc.\n",
    "\n",
    "Como primera observación notamos que casi todas las palabras con poca información tienen un longitud menor o igual a 3. Por lo tanto en este nuevo diccionario solo se agruegarán palabras con longitud mayor a 3. Además se excluirán palabras como \"para\", \"hasta\", \"sobre\", etc.\n",
    "\n",
    "Por lo tanto se realiza lo siguiente\n"
   ]
  },
  {
   "cell_type": "code",
   "execution_count": 53,
   "id": "32318e5a",
   "metadata": {},
   "outputs": [],
   "source": [
    "#Se define un nuevo diccionario.\n",
    "Diccionario2 = {}\n",
    "for i in lista:\n",
    "    #Se van recorriendo nuevamente la lista de palabras pero esta vez solo se agruega al diccionario solo si la \n",
    "    # longitud de la palabra es mayor que 3 y no es una preposición como \"sobre\", \"para\", etc.\n",
    "    #El conteo de ocurrencias es totalmente análogo al caso anterior.\n",
    "    if len(i) > 3 and i not in [\"sobre\", \"para\", \"hasta\"]:\n",
    "        Diccionario2[i] = Diccionario2.get(i,0) + 1"
   ]
  },
  {
   "attachments": {},
   "cell_type": "markdown",
   "id": "cfa0c22e",
   "metadata": {},
   "source": [
    "Finalmente con la biblioteca collections se ordena el diccionario nuevo, tomando como parámetro de ordenamiento el número de ocurrencias."
   ]
  },
  {
   "cell_type": "code",
   "execution_count": 54,
   "id": "e3550474",
   "metadata": {},
   "outputs": [],
   "source": [
    "#Se define como variable de ordenamiento el valor de los elementos del diccionario.\n",
    "contador = Counter(Diccionario2)\n",
    "#Se obtiene el Diccionario ordenado.\n",
    "DiccionarioOrdenado = contador.most_common()"
   ]
  },
  {
   "attachments": {},
   "cell_type": "markdown",
   "id": "2eadfc7d",
   "metadata": {},
   "source": [
    "Finalmente se muestra el diccionario ordenado."
   ]
  },
  {
   "cell_type": "code",
   "execution_count": 55,
   "id": "fa2a7349",
   "metadata": {},
   "outputs": [
    {
     "name": "stdout",
     "output_type": "stream",
     "text": [
      "[('Aprendizaje', 10), ('automático', 6), ('modelos', 5), ('algoritmos', 4), ('predictivo', 4), ('concepto', 3), ('datos', 3), ('preguntas', 3), ('probabilidad', 3), ('casos', 2), ('utiliza', 2), ('están', 2), ('hacer', 2), ('idea', 2), ('principal', 2), ('puede', 2), ('Algunos', 2), ('ejemplos', 2), ('siguientes:', 2), ('redes', 2), ('profundo', 2), ('identificación', 2), ('inteligentes', 2), ('análisis', 2), ('variables', 2), ('modelo', 2), ('edad,', 2), ('código', 2), ('postal,', 2), ('número', 2), ('(por', 2), ('ejemplo,', 2), ('entre', 2), ('migración', 2), ('clientes,', 2), ('Ahora', 1), ('conoce', 1), ('definición', 1), ('historia,', 1), ('mejor', 1), ('forma', 1), ('profundizar', 1), ('tema', 1), ('conocer', 1), ('principales', 1), ('técnicas', 1), ('específicamente,', 1), ('Inteligencia', 1), ('artificial', 1), ('negocios.', 1), ('Generalmente,', 1), ('confunde', 1), ('débil”.', 1), ('este', 1), ('campo', 1), ('donde', 1), ('avances', 1), ('importantes', 1), ('llevando', 1), ('cabo.', 1), ('términos', 1), ('prácticos,', 1), ('ciencia', 1), ('encarga', 1), ('computadoras', 1), ('realicen', 1), ('acciones', 1), ('necesidad', 1), ('programación', 1), ('explícita”.', 1), ('aquí', 1), ('proporcionar', 1), ('luego', 1), ('usarlos', 1), ('saber', 1), ('cómo', 1), ('predicciones', 1), ('guiar', 1), ('decisiones.', 1), ('incluyen', 1), ('diagramas', 1), ('decisiones,', 1), ('agrupamiento,', 1), ('genéticos,', 1), ('Bayesianas', 1), ('profundo.', 1), ('¿Recuerda', 1), ('cuando', 1), ('Google', 1), ('anunció', 1), ('algoritmo', 1), ('encontraba', 1), ('videos', 1), ('gatos', 1), ('Youtube?', 1), ('desea', 1), ('refrescar', 1), ('memoria', 1), ('haga', 1), ('clic', 1), ('aquí).', 1), ('Pues', 1), ('bien,', 1), ('esto', 1), ('profundo,', 1), ('técnica', 1), ('neuronales', 1), ('neuronas', 1), ('pueden', 1), ('simular', 1), ('mediante', 1), ('unidades', 1), ('computacionales)', 1), ('realizar', 1), ('tareas', 1), ('clasificación', 1), ('(piense', 1), ('clasificar', 1), ('imagen', 1), ('gato,', 1), ('perro', 1), ('personas,', 1), ('ejemplo).', 1), ('aplicaciones', 1), ('prácticas', 1), ('vehículos,', 1), ('peatones', 1), ('placas', 1), ('matrícula', 1), ('vehículos', 1), ('autónomos,', 1), ('reconocimiento', 1), ('imagen,', 1), ('traducción', 1), ('procesamiento', 1), ('lenguaje', 1), ('natural.', 1), ('Descubrimiento', 1), ('próximo', 1), ('paso', 1), ('soluciones', 1), ('(Inteligencia', 1), ('empresarial).', 1), ('consiste', 1), ('permitir', 1), ('automatización', 1), ('total', 1), ('ciclo', 1), ('incorporación', 1), ('preparación', 1), ('datos,', 1), ('patrones', 1), ('hipótesis.', 1), ('Este', 1), ('ejemplo', 1), ('interesante', 1), ('recuperación', 1), ('acción.', 1), ('información', 1), ('ninguna', 1), ('herramienta', 1), ('había', 1), ('descubierto.', 1), ('Análisis', 1), ('Piense', 1), ('momento', 1), ('está', 1), ('contratando', 1), ('seguro', 1), ('auto', 1), ('agente', 1), ('hace', 1), ('serie', 1), ('Estas', 1), ('relacionadas', 1), ('influyen', 1), ('riesgo.', 1), ('Detrás', 1), ('estas', 1), ('encuentra', 1), ('informa', 1), ('ocurra', 1), ('accidente', 1), ('base', 1), ('género,', 1), ('marca', 1), ('auto,', 1), ('etc.', 1), ('mismo', 1), ('principio', 1), ('emplea', 1), ('predictivos', 1), ('crédito', 1), ('identificar', 1), ('buenos', 1), ('malos', 1), ('pagadores.', 1), ('tanto,', 1), ('modelado)', 1), ('significa', 1), ('utilizar', 1), ('(ingresos,', 1), ('etc.)', 1), ('combinadas', 1), ('resultados', 1), ('buen', 1), ('pagador)', 1), ('generar', 1), ('proporcione', 1), ('puntuación', 1), ('representa', 1), ('evento', 1), ('pago,', 1), ('accidente,', 1), ('etc.).', 1), ('negocios', 1), ('amplios:', 1), ('crédito,', 1), ('segmentación', 1), ('clientes', 1), ('(agrupamiento),', 1), ('compra', 1), ('otros.', 1)]\n"
     ]
    }
   ],
   "source": [
    "print(DiccionarioOrdenado)"
   ]
  },
  {
   "attachments": {},
   "cell_type": "markdown",
   "id": "6d392d76",
   "metadata": {},
   "source": [
    "Así, se nota que las palabras con mayor ocurrencia en el diccionario son por ejemplo \"Aprendizaje\", \"autómatico\", \"modelos\", \"algoritmos\" , \"predictivo\", etc. por lo se puede decir que el archivo trata un tema relacionado con la inteligencia artificial tratando por ejemplo sus aplicaciones o su fundamento teórico."
   ]
  },
  {
   "attachments": {},
   "cell_type": "markdown",
   "id": "cbe11220",
   "metadata": {},
   "source": [
    "### Punto extra"
   ]
  },
  {
   "attachments": {},
   "cell_type": "markdown",
   "id": "7d9d919e",
   "metadata": {},
   "source": [
    "La herramienta trees.jar maneja muchos más tipos de árboles (no solo los que vimos en clase). En la parte superior de dicha herramienta pueden encontrar más pestañas con diferentes tipos de árboles. Revisa el resto de los árboles que maneja y en una sección llamada Arboles de la Barranca menciona las ventajas de cada uno y donde son empleados."
   ]
  },
  {
   "attachments": {},
   "cell_type": "markdown",
   "id": "f5083c61",
   "metadata": {},
   "source": [
    "#### Árboles de la barranca"
   ]
  },
  {
   "attachments": {},
   "cell_type": "markdown",
   "id": "9b54657a",
   "metadata": {},
   "source": [
    "+ Árbol rojo-negro.\n",
    "\n",
    "Es un árbol binario balanceado en el que cada nodo tiene un atributo de color: rojo y negro y cumple las siguientes propiedades \n",
    "    1. Todo nodo es o bien rojo o bien negro.\n",
    "    2. La raíz es negra.\n",
    "    3. Todas las hojas son negras.\n",
    "    4. Todo nodo rojo debe tener dos hijos negros.\n",
    "    5. Cada camino desde un nodo dado a sus hojas descendientes contiene el mismo número de nodos negros.\n",
    "Estás propiedades de los árboles rojo-negro: El camino más largo desde la raíz hasta una hoja no es más largo que dos veces el camino más corto desde la raíz a una hoja. Por lo tanto operaciones como buscar, insertar y eliminar tienen un peor caso proporcioanal a la altura del árbol (https://es.wikipedia.org/wiki/%C3%81rbol_rojo-negro). \n",
    "\n",
    "Los árboles rojo-negro son usados en programación funcional donde se usan para la construcción de arreglos asociativos.\n",
    "\n",
    "![Alt text](rojonegro.PNG)\n",
    "\n",
    "+ Árbol AA\n",
    "\n",
    "Son una variación al árbol rojo-negro, pues en los árboles AA los nodos rojos sólo pueden añadirse como un hijo derecho, es decir, ningún nodo rojo puede ser un hijo izquierdo.\n",
    "Este último hecho tiene implicaciones importante a la hora de realizar balanceos por medio de rotaciones simples a la izquierda y derecha pues se reducen considerablemente.\n",
    "\n",
    "El rendimiento de un árbol AA es equivalente al de un árbol rojo-negro. Un árbol AA realiza más rotaciones que un árbol red-black, pero la mayor sencillez de sus algoritmos tiende a hacerlos más rápidos, y estos factores se compensan resultando en un rendimiento similar (https://es.wikipedia.org/wiki/%C3%81rbol_AA). De esta forma los árboles AA tienen amplias aplicaciones en tareas de almacenaje y búsquedad de información.\n",
    "\n",
    "![Alt text](AA.PNG)\n",
    "\n",
    "+ Skiplist\n",
    "\n",
    "\n",
    "Una skip list es una estructura de datos basadas en listas enlazadas paralelas con eficiencia comparable a la de un árbol bianario ($O(\\log_2(n))$).\n",
    "\n",
    "Una skiplist está conformada por capas\n",
    "\n",
    "+ Max y Min Heap\n",
    "\n",
    "Un *Heap* es un árbol con información perteneciente a un conjunto ordenado.\n",
    " + Los Heap máximos tienen la característica de que cada nodo padre tiene un valor mayor que el de cualquiera de sus nodos hijos.\n",
    " + Los Heap mínimos tienen la característica de que el nodo padre es siempre menor al de sus nodos hijos.\n",
    "\n"
   ]
  },
  {
   "cell_type": "markdown",
   "id": "951f69e8",
   "metadata": {},
   "source": []
  }
 ],
 "metadata": {
  "kernelspec": {
   "display_name": "Python 3 (ipykernel)",
   "language": "python",
   "name": "python3"
  },
  "language_info": {
   "codemirror_mode": {
    "name": "ipython",
    "version": 3
   },
   "file_extension": ".py",
   "mimetype": "text/x-python",
   "name": "python",
   "nbconvert_exporter": "python",
   "pygments_lexer": "ipython3",
   "version": "3.9.12"
  }
 },
 "nbformat": 4,
 "nbformat_minor": 5
}
