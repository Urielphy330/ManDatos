{
 "cells": [
  {
   "cell_type": "code",
   "execution_count": 1,
   "id": "715cb524",
   "metadata": {},
   "outputs": [
    {
     "name": "stdout",
     "output_type": "stream",
     "text": [
      "Hola\n"
     ]
    }
   ],
   "source": [
    "print(\"Hola\")"
   ]
  },
  {
   "cell_type": "markdown",
   "id": "1cac43bf",
   "metadata": {},
   "source": [
    "### Tarea 3: Simulación (¿Vivimos en una?)\n",
    "**Descripción**\n",
    "La tarea consiste en familiarizarse con el concepto de simulaciones y teoría de filas."
   ]
  },
  {
   "cell_type": "markdown",
   "id": "2515ee5b",
   "metadata": {},
   "source": [
    "## Simulacion de probabilidades\n",
    "\n",
    "Define la función \n",
    "\n",
    "`def MonteCarlo(F, N, a, b)`\n",
    "\n",
    "Y los parámetros son:\n",
    "\n",
    "F: función a integrar\n",
    "N: número de valores aleatorios\n",
    "a,b: límites de integración\n",
    "Que sea capaz de realizar la aproximación de una integral triple definida entre a, b, por ejemplo si tomas la función $F(x,y,z)=x^2 + y^2 + z^2$ y los límites $a=0, b=2$ tu función debe devolver 32. Valida tus resultados usando [wolfram](https://www.wolframalpha.com/input?i=triple+definite+integral&assumption=%7B%22F%22%2C+%22TripleIntegral%22%2C+%22rangestart1i%22%7D+-%3E%220%22&assumption=%7B%22F%22%2C+%22TripleIntegral%22%2C+%22intvariable1i%22%7D+-%3E%22x%22&assumption=%7B%22F%22%2C+%22TripleIntegral%22%2C+%22rangeend3%22%7D+-%3E%222%22&assumption=%7B%22F%22%2C+%22TripleIntegral%22%2C+%22rangestart2m%22%7D+-%3E%220%22&assumption=%7B%22F%22%2C+%22TripleIntegral%22%2C+%22rangeend2m%22%7D+-%3E%222%22&assumption=%7B%22F%22%2C+%22TripleIntegral%22%2C+%22intvariable3%22%7D+-%3E%22z%22&assumption=%7B%22F%22%2C+%22TripleIntegral%22%2C+%22intvariable2m%22%7D+-%3E%22y%22&assumption=%7B%22C%22%2C+%22triple+integral%22%7D+-%3E+%7B%22Calculator%22%7D&assumption=%7B%22F%22%2C+%22TripleIntegral%22%2C+%22integrand%22%7D+-%3E%22x%5E2+%2B+y%5E2+%2B+z%5E2%22&assumption=%7B%22F%22%2C+%22TripleIntegral%22%2C+%22rangeend1i%22%7D+-%3E%222%22&assumption=%7B%22F%22%2C+%22TripleIntegral%22%2C+%22rangestart3%22%7D+-%3E%220%22&lang=es).\n",
    "\n"
   ]
  },
  {
   "cell_type": "markdown",
   "id": "c4c525ec",
   "metadata": {},
   "source": [
    "*Solución.* Recordemos que en general una integral se puede calcular como \n",
    "\n",
    "$$\\int_A f \\approx (medida \\ de \\ A) \\times (promedio \\ de \\ f \\ en \\ puntos \\ aleatorios \\ en \\ A)$$\n",
    "Por lo tanto se puede aproximar de la siguiente forma"
   ]
  },
  {
   "cell_type": "code",
   "execution_count": 2,
   "id": "6d3ea7a5",
   "metadata": {},
   "outputs": [],
   "source": [
    "import numpy as np"
   ]
  },
  {
   "cell_type": "code",
   "execution_count": 3,
   "id": "38e4ef8f",
   "metadata": {},
   "outputs": [],
   "source": [
    "def MonteCarlo(F, N, a, b):\n",
    "    medida = (b-a)**3\n",
    "    a1 = np.random.uniform(a,b,size=N)\n",
    "    a2 = np.random.uniform(a,b,size=N)\n",
    "    a3 = np.random.uniform(a,b,size=N)\n",
    "    acumulado = 0\n",
    "    for i in range(N):\n",
    "        acumulado = F(a1[i], a2[i], a3[i] ) + acumulado\n",
    "    \n",
    "    aprox = medida * acumulado/N\n",
    "    return aprox"
   ]
  },
  {
   "cell_type": "code",
   "execution_count": 4,
   "id": "4b9822dd",
   "metadata": {},
   "outputs": [],
   "source": [
    "def F1(x,y,z): \n",
    "    return x**2+y**2+z**2"
   ]
  },
  {
   "cell_type": "code",
   "execution_count": 5,
   "id": "3103d8c7",
   "metadata": {},
   "outputs": [
    {
     "data": {
      "text/plain": [
       "31.98889188978398"
      ]
     },
     "execution_count": 5,
     "metadata": {},
     "output_type": "execute_result"
    }
   ],
   "source": [
    "MonteCarlo(F1,100000,0,2)"
   ]
  },
  {
   "cell_type": "markdown",
   "id": "0c4e2e10",
   "metadata": {},
   "source": [
    "## Diccionarios\n",
    "\n",
    "Del siguiente diccionario:\n",
    "```python\n",
    "month_dict = {\n",
    "    \"Enero\": 31,\n",
    "    \"Febero\": 28,\n",
    "    \"Marzo\": 31,\n",
    "    \"Abril\": 30,\n",
    "    \"Mayo\": 31,\n",
    "    \"Junio\": 30,\n",
    "    \"Julio\": 31,\n",
    "    \"Augosto\": 31,\n",
    "    \"Septiembre\": 30,\n",
    "    \"Octubre\": 31,\n",
    "    \"Noviembre\": 30,\n",
    "    \"Diciembre\": 31,\n",
    "}\n",
    "```\n",
    "realiza lo siguitente:\n",
    "- a) Usando el diccionario devuelve el numero de días que tiene Febrero\n",
    "- b) Regresa una lista de los nombres de los meses ordenada alfabeticamente\n",
    "- c) Regresa una lista con el nombre de los meses que tienen 31 dias\n",
    "- d) imprime el nombre del mes y el numero de días en orden ascendente segun los días \n",
    "\n"
   ]
  },
  {
   "cell_type": "markdown",
   "id": "aaefb4e9",
   "metadata": {},
   "source": [
    "**Solución** Se define el diccionario"
   ]
  },
  {
   "cell_type": "code",
   "execution_count": 6,
   "id": "9ca6d8f3",
   "metadata": {},
   "outputs": [],
   "source": [
    "month_dict = {\n",
    "    \"Enero\": 31,\n",
    "    \"Febero\": 28,\n",
    "    \"Marzo\": 31,\n",
    "    \"Abril\": 30,\n",
    "    \"Mayo\": 31,\n",
    "    \"Junio\": 30,\n",
    "    \"Julio\": 31,\n",
    "    \"Augosto\": 31,\n",
    "    \"Septiembre\": 30,\n",
    "    \"Octubre\": 31,\n",
    "    \"Noviembre\": 30,\n",
    "    \"Diciembre\": 31,\n",
    "}\n"
   ]
  },
  {
   "cell_type": "markdown",
   "id": "e753932e",
   "metadata": {},
   "source": [
    "- a) Usando el diccionario devuelve el numero de días que tiene Febrero\n"
   ]
  },
  {
   "cell_type": "code",
   "execution_count": 7,
   "id": "e97c3327",
   "metadata": {},
   "outputs": [
    {
     "data": {
      "text/plain": [
       "28"
      ]
     },
     "execution_count": 7,
     "metadata": {},
     "output_type": "execute_result"
    }
   ],
   "source": [
    "month_dict[\"Febero\"]"
   ]
  },
  {
   "cell_type": "markdown",
   "id": "e7f5ba3d",
   "metadata": {},
   "source": [
    "- b) Regresa una lista de los nombres de los meses ordenada alfabeticamente\n"
   ]
  },
  {
   "cell_type": "code",
   "execution_count": 8,
   "id": "ca172f39",
   "metadata": {},
   "outputs": [
    {
     "name": "stdout",
     "output_type": "stream",
     "text": [
      "Enero\n",
      "Febero\n",
      "Marzo\n",
      "Abril\n",
      "Mayo\n",
      "Junio\n",
      "Julio\n",
      "Augosto\n",
      "Septiembre\n",
      "Octubre\n",
      "Noviembre\n",
      "Diciembre\n"
     ]
    }
   ],
   "source": [
    "for i in month_dict.keys():\n",
    "    print(i)"
   ]
  },
  {
   "cell_type": "code",
   "execution_count": 9,
   "id": "9f33a2d2",
   "metadata": {},
   "outputs": [],
   "source": [
    "#Como primera tarea se define la función para mezclar las listas\n",
    "def Mezcla(x,y): \n",
    "    \"\"\" Se reciben dos listas ordenadas y se genera una tercera lista ordenada\n",
    "     que contiene los valores de las entradas. \n",
    "    \"\"\"\n",
    "    i = 0   #Se definen un par de contadores\n",
    "    j = 0\n",
    "    resultado = [] # Se define una lista vacía para llenar el resultado.\n",
    "\n",
    "    # El algoritmo se basa en la comparación uno a uno de elementos de cada lista\n",
    "    # elegiendo al menor en cada comparación y \"cancelarlo\" para evitar volverlo \n",
    "    # a elegir.\n",
    "    while (i<len(x) and j<len(y)): \n",
    "        if(x[i] < y[j]): #Se realiza la comparación\n",
    "            resultado.append(x[i]) #Se elige el menor si es el caso\n",
    "            i += 1 #El contador se incrementa para evitar volver a elegir al mismo\n",
    "                   # elemento\n",
    "        else:\n",
    "            resultado.append(y[j]) # Si el elemento de la primera lista no es menor\n",
    "                                   # entonces es el de la segunda lista.\n",
    "            j += 1 # Se cancela el elemento\n",
    "    #Sucede que al terminar el bucle una lista está vacía pero no se sabe cuál\n",
    "    # por lo que al final agregamos los valores de las dos listas.\n",
    "    resultado += x[i:] \n",
    "    resultado += y[j:]\n",
    "    return resultado #Se regresa la lista mezcla ordenada.\n",
    "\n",
    "def MergeSort(x):\n",
    "    \"\"\" Se ordena una lista x por el método MergeSort  \n",
    "    \"\"\"\n",
    "    # El algortimo es de carácter recursivo entonces se tiene el caso base \n",
    "    if len(x) < 2:  \n",
    "        return x #La lista está trivialmente ordenada.\n",
    "    m = len(x)//2 # Tomamos la longitude de la lista y la divimos entre dos.\n",
    "    S1 = MergeSort(x[0:m]) #Se separa la lista en dos sublistas y se llama \n",
    "                           #recursivamente a la función para ambas sublistas.\n",
    "    S2 = MergeSort(x[m:len(x)]) \n",
    "    #Se obtienen dos mezclas ordenadas por separado y el siguiente paso es realizar la \n",
    "    # mezcla.\n",
    "    return Mezcla(S1,S2) #Se arroja el resultado.  "
   ]
  },
  {
   "cell_type": "code",
   "execution_count": 10,
   "id": "1ed9af24",
   "metadata": {},
   "outputs": [
    {
     "data": {
      "text/plain": [
       "['Abril',\n",
       " 'Augosto',\n",
       " 'Diciembre',\n",
       " 'Enero',\n",
       " 'Febero',\n",
       " 'Julio',\n",
       " 'Junio',\n",
       " 'Marzo',\n",
       " 'Mayo',\n",
       " 'Noviembre',\n",
       " 'Octubre',\n",
       " 'Septiembre']"
      ]
     },
     "execution_count": 10,
     "metadata": {},
     "output_type": "execute_result"
    }
   ],
   "source": [
    "Ordenado = MergeSort([i for i in month_dict.keys()])\n",
    "Ordenado"
   ]
  },
  {
   "cell_type": "markdown",
   "id": "93f475bb",
   "metadata": {},
   "source": [
    "c) Regresa una lista con el nombre de los meses que tienen 31 dias"
   ]
  },
  {
   "cell_type": "code",
   "execution_count": 11,
   "id": "d66f5d1c",
   "metadata": {},
   "outputs": [
    {
     "name": "stdout",
     "output_type": "stream",
     "text": [
      "['Enero', 'Marzo', 'Mayo', 'Julio', 'Augosto', 'Octubre', 'Diciembre']\n"
     ]
    }
   ],
   "source": [
    "Res = []\n",
    "for i in month_dict.keys():\n",
    "    if month_dict[i] == 31:\n",
    "        Res.append(i)\n",
    "print(Res)"
   ]
  },
  {
   "cell_type": "markdown",
   "id": "d9f30412",
   "metadata": {},
   "source": [
    "d) imprime el nombre del mes y el numero de días en orden ascendente segun los días \n"
   ]
  },
  {
   "cell_type": "code",
   "execution_count": 22,
   "id": "92ea26c5",
   "metadata": {},
   "outputs": [],
   "source": [
    "from collections import Counter"
   ]
  },
  {
   "cell_type": "code",
   "execution_count": 32,
   "id": "43d66b1d",
   "metadata": {},
   "outputs": [
    {
     "data": {
      "text/plain": [
       "[('Febero', 28),\n",
       " ('Noviembre', 30),\n",
       " ('Septiembre', 30),\n",
       " ('Junio', 30),\n",
       " ('Abril', 30),\n",
       " ('Diciembre', 31),\n",
       " ('Octubre', 31),\n",
       " ('Augosto', 31),\n",
       " ('Julio', 31),\n",
       " ('Mayo', 31),\n",
       " ('Marzo', 31),\n",
       " ('Enero', 31)]"
      ]
     },
     "execution_count": 32,
     "metadata": {},
     "output_type": "execute_result"
    }
   ],
   "source": [
    "contador = Counter(month_dict)\n",
    "Dicc_orde = contador.most_common()\n",
    "Dicc_orde_des = [Dicc_orde[len(month_dict)-1-i] for i in range(len(month_dict))]\n",
    "Dicc_orde_des"
   ]
  },
  {
   "cell_type": "markdown",
   "id": "d45ca01d",
   "metadata": {},
   "source": [
    "Del siguiente diccionario\n",
    "```python\n",
    "d=[{'name':'Todd', 'phone':'555-1414', 'email':'todd@mail.net'},\n",
    "{'name':'Helga', 'phone':'555-1618', 'email':'helga@mail.net'},\n",
    "{'name':'Princess', 'phone':'555-3141', 'email':''},\n",
    "{'name':'LJ', 'phone':'555-2718', 'email':'lj@mail.net'}]\n",
    "```\n",
    "Realiza lo siguiente:\n",
    "\n",
    "  a) regresa una lista con los nombres de las personas cuyo telefono termina en 8\n",
    "  \n",
    "  b) una lista de las personas cuyo email es vacío"
   ]
  },
  {
   "cell_type": "markdown",
   "id": "93b988cf",
   "metadata": {},
   "source": [
    "**Solución** Se define primero el diccionario"
   ]
  },
  {
   "cell_type": "code",
   "execution_count": 34,
   "id": "e0a44beb",
   "metadata": {},
   "outputs": [],
   "source": [
    "d=[{'name':'Todd', 'phone':'555-1414', 'email':'todd@mail.net'},\n",
    "{'name':'Helga', 'phone':'555-1618', 'email':'helga@mail.net'},\n",
    "{'name':'Princess', 'phone':'555-3141', 'email':''},\n",
    "{'name':'LJ', 'phone':'555-2718', 'email':'lj@mail.net'}]"
   ]
  },
  {
   "cell_type": "code",
   "execution_count": 46,
   "id": "e1fe7b5c",
   "metadata": {},
   "outputs": [
    {
     "data": {
      "text/plain": [
       "['Helga', 'LJ']"
      ]
     },
     "execution_count": 46,
     "metadata": {},
     "output_type": "execute_result"
    }
   ],
   "source": [
    "nombre = []\n",
    "for i in d:\n",
    "    if i[\"phone\"][-1] == \"8\":\n",
    "        nombre.append(i[\"name\"])\n",
    "        \n",
    "nombre"
   ]
  },
  {
   "cell_type": "markdown",
   "id": "43bc5dc3",
   "metadata": {},
   "source": [
    "b) una lista de las personas cuyo email es vacío"
   ]
  },
  {
   "cell_type": "code",
   "execution_count": 49,
   "id": "527cfe41",
   "metadata": {},
   "outputs": [
    {
     "data": {
      "text/plain": [
       "['Princess']"
      ]
     },
     "execution_count": 49,
     "metadata": {},
     "output_type": "execute_result"
    }
   ],
   "source": [
    "sin_correos = []\n",
    "for i in d:\n",
    "    if i[\"email\"] == \"\":\n",
    "        sin_correos.append(i[\"name\"])\n",
    "sin_correos"
   ]
  },
  {
   "cell_type": "markdown",
   "id": "2e0edf06",
   "metadata": {},
   "source": [
    "Con base en el siguiente diccionario:\n",
    "\n",
    "```python\n",
    "roman_values = {'M': 1000, 'D': 500, 'C': 100, 'L': 50, 'X': 10, 'V': 5, 'I': 1}\n",
    "```\n",
    "a) Construye una función que transforme de numeros romanos a enteros, la función debe de recibir una cadena.\n",
    "en la función verifica prueba con estas 4 cadenas\n",
    "- 'MCMLIV'\n",
    "- 'MMXIX'\n",
    "- 'IV'\n",
    "- 'XL'"
   ]
  },
  {
   "cell_type": "markdown",
   "id": "631d67f8",
   "metadata": {},
   "source": [
    "**Solución** Primero, definimos el diccionario"
   ]
  },
  {
   "cell_type": "code",
   "execution_count": 1,
   "id": "ba344ada",
   "metadata": {},
   "outputs": [],
   "source": [
    "roman_values = {'M': 1000, 'D': 500, 'C': 100, 'L': 50, 'X': 10, 'V': 5, 'I': 1}"
   ]
  },
  {
   "cell_type": "code",
   "execution_count": null,
   "id": "ca8577d4",
   "metadata": {},
   "outputs": [],
   "source": [
    "def valor()"
   ]
  },
  {
   "cell_type": "code",
   "execution_count": 4,
   "id": "f16a262f",
   "metadata": {},
   "outputs": [],
   "source": [
    "def Romano(x):\n",
    "    num = 0\n",
    "    for i in range(len(x)):\n",
    "        if i < len(x) - 1 and roman_values[x[i]] < roman_values[x[i+1]]:\n",
    "            num = num - roman_values[x[i]]\n",
    "        else:\n",
    "            num = roman_values[x[i]] + num\n",
    "    return num"
   ]
  },
  {
   "cell_type": "code",
   "execution_count": 10,
   "id": "b3bcd01b",
   "metadata": {},
   "outputs": [
    {
     "data": {
      "text/plain": [
       "(1954, 2019, 4, 40)"
      ]
     },
     "execution_count": 10,
     "metadata": {},
     "output_type": "execute_result"
    }
   ],
   "source": [
    "Romano(\"MCMLIV\"), Romano(\"MMXIX\"),Romano(\"IV\"),Romano(\"XL\")  "
   ]
  },
  {
   "cell_type": "markdown",
   "id": "a600ccef",
   "metadata": {},
   "source": [
    "b) Haz la función contraria, de enteros a Romanos\n",
    "- Para este ejercicio testea en el verifica la salida del inciso a)"
   ]
  },
  {
   "cell_type": "code",
   "execution_count": 293,
   "id": "c715d87e",
   "metadata": {},
   "outputs": [],
   "source": [
    "def Enteros_Rombasico(x):\n",
    "    NUM = \"\"\n",
    "    for i in roman_values.keys():\n",
    "        if x == 4:\n",
    "            return \"IV\"\n",
    "        if x == 9:\n",
    "            return \"IX\"\n",
    "        if x == 40:\n",
    "            return \"XL\"\n",
    "        if x == 90:\n",
    "            return \"XC\"\n",
    "        if x == 400:\n",
    "            return \"CD\"\n",
    "        if x == 900:\n",
    "            return \"CM\"\n",
    "        while x // roman_values[i] != 0:\n",
    "                NUM = NUM + i\n",
    "                x = x - roman_values[i] \n",
    "    return NUM\n",
    "\n",
    "def Enteros_Rom1(x):\n",
    "    NUM = \"\"\n",
    "    a = x - x % 1000\n",
    "    b = (x - a) - x % 100\n",
    "    c = (x - a - b) \n",
    "    d = c % 10\n",
    "    return Enteros_Rombasico(a) + Enteros_Rombasico(b) + Enteros_Rombasico(c-d)+ Enteros_Rombasico(d)"
   ]
  },
  {
   "cell_type": "code",
   "execution_count": 296,
   "id": "c76fb843",
   "metadata": {},
   "outputs": [
    {
     "data": {
      "text/plain": [
       "('MCMLIV', 'MMXIX', 'IV', 'XL')"
      ]
     },
     "execution_count": 296,
     "metadata": {},
     "output_type": "execute_result"
    }
   ],
   "source": [
    "Enteros_Rom1(1954), Enteros_Rom1(2019), Enteros_Rom1(4), Enteros_Rom1(40)"
   ]
  },
  {
   "cell_type": "code",
   "execution_count": null,
   "id": "8dbb8982",
   "metadata": {},
   "outputs": [],
   "source": []
  }
 ],
 "metadata": {
  "kernelspec": {
   "display_name": "Python 3 (ipykernel)",
   "language": "python",
   "name": "python3"
  },
  "language_info": {
   "codemirror_mode": {
    "name": "ipython",
    "version": 3
   },
   "file_extension": ".py",
   "mimetype": "text/x-python",
   "name": "python",
   "nbconvert_exporter": "python",
   "pygments_lexer": "ipython3",
   "version": "3.9.12"
  }
 },
 "nbformat": 4,
 "nbformat_minor": 5
}
