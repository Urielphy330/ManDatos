{
 "cells": [
  {
   "attachments": {},
   "cell_type": "markdown",
   "id": "715cb524",
   "metadata": {},
   "source": [
    "<h1 align=\"center\">  Manejo de Datos\n",
    "<h2 align=\"center\"> Tarea 3: Sumulación (¿Vivimos en una?)\n",
    "<h3 align=\"center\"> Villanueva Alcalá Uriel 31625304-2\n",
    "    \n",
    "<hr size=\"15px\" color=\"black\" >"
   ]
  },
  {
   "attachments": {},
   "cell_type": "markdown",
   "id": "1cac43bf",
   "metadata": {},
   "source": [
    "# **Descripción**\n",
    "+ La tarea consiste en familiarizarse con el concepto de simulaciones y teoría de filas.\n",
    "# **Desarrollo**\n",
    "+ En esta tarea debes completar el documento de *Jupyter Notebook* llamado **Tarea3:Simulacion.ipynb**. Dentro de este documento es necesario realizar las siguientes actividades."
   ]
  },
  {
   "cell_type": "markdown",
   "id": "2515ee5b",
   "metadata": {},
   "source": [
    "## Simulacion de probabilidades\n",
    "\n",
    "Define la función \n",
    "\n",
    "`def MonteCarlo(F, N, a, b)`\n",
    "\n",
    "Y los parámetros son:\n",
    "\n",
    "F: función a integrar\n",
    "N: número de valores aleatorios\n",
    "a,b: límites de integración\n",
    "Que sea capaz de realizar la aproximación de una integral triple definida entre a, b, por ejemplo si tomas la función $F(x,y,z)=x^2 + y^2 + z^2$ y los límites $a=0, b=2$ tu función debe devolver 32. Valida tus resultados usando [wolfram](https://www.wolframalpha.com/input?i=triple+definite+integral&assumption=%7B%22F%22%2C+%22TripleIntegral%22%2C+%22rangestart1i%22%7D+-%3E%220%22&assumption=%7B%22F%22%2C+%22TripleIntegral%22%2C+%22intvariable1i%22%7D+-%3E%22x%22&assumption=%7B%22F%22%2C+%22TripleIntegral%22%2C+%22rangeend3%22%7D+-%3E%222%22&assumption=%7B%22F%22%2C+%22TripleIntegral%22%2C+%22rangestart2m%22%7D+-%3E%220%22&assumption=%7B%22F%22%2C+%22TripleIntegral%22%2C+%22rangeend2m%22%7D+-%3E%222%22&assumption=%7B%22F%22%2C+%22TripleIntegral%22%2C+%22intvariable3%22%7D+-%3E%22z%22&assumption=%7B%22F%22%2C+%22TripleIntegral%22%2C+%22intvariable2m%22%7D+-%3E%22y%22&assumption=%7B%22C%22%2C+%22triple+integral%22%7D+-%3E+%7B%22Calculator%22%7D&assumption=%7B%22F%22%2C+%22TripleIntegral%22%2C+%22integrand%22%7D+-%3E%22x%5E2+%2B+y%5E2+%2B+z%5E2%22&assumption=%7B%22F%22%2C+%22TripleIntegral%22%2C+%22rangeend1i%22%7D+-%3E%222%22&assumption=%7B%22F%22%2C+%22TripleIntegral%22%2C+%22rangestart3%22%7D+-%3E%220%22&lang=es).\n",
    "\n"
   ]
  },
  {
   "attachments": {},
   "cell_type": "markdown",
   "id": "c4c525ec",
   "metadata": {},
   "source": [
    "**Solución.**\n",
    "\n",
    "Recordando que en clase se vió que en general una integral se puede aproximar con el método Montecarlo como \n",
    "\n",
    "$$\\int_A f \\approx (medida \\ de \\ A) \\times (promedio \\ de \\ f \\ en \\ puntos \\ aleatorios \\ en \\ A)$$\n",
    "\n",
    "Por lo tanto el código es el siguiente:"
   ]
  },
  {
   "attachments": {},
   "cell_type": "markdown",
   "id": "c3bc41a9",
   "metadata": {},
   "source": [
    "Primero se importa la biblioteca `numpy` para generar números aleatorios de forma sencilla."
   ]
  },
  {
   "cell_type": "code",
   "execution_count": 4,
   "id": "6d3ea7a5",
   "metadata": {},
   "outputs": [
    {
     "name": "stdout",
     "output_type": "stream",
     "text": [
      "Collecting numpyNote: you may need to restart the kernel to use updated packages.\n",
      "\n",
      "  Downloading numpy-1.24.2-cp310-cp310-win_amd64.whl (14.8 MB)\n",
      "     ---------------------------------------- 14.8/14.8 MB 3.8 MB/s eta 0:00:00\n",
      "Installing collected packages: numpy\n",
      "Successfully installed numpy-1.24.2\n"
     ]
    }
   ],
   "source": [
    "# pip install numpy"
   ]
  },
  {
   "cell_type": "code",
   "execution_count": 5,
   "id": "ea14ecca",
   "metadata": {},
   "outputs": [],
   "source": [
    "import numpy as np"
   ]
  },
  {
   "attachments": {},
   "cell_type": "markdown",
   "id": "fc9c6356",
   "metadata": {},
   "source": [
    "Luego, la función MonteCarlo básicamente genera N triadas de números aleatorios en el intervalo (a,b) y por el Teorema anterior, la integral debe ser aproximadamente igual a la medida del intervalo multiplicado por el promedio de los valores de la función evaluada en las triadas aleatorias."
   ]
  },
  {
   "cell_type": "code",
   "execution_count": 6,
   "id": "38e4ef8f",
   "metadata": {},
   "outputs": [],
   "source": [
    "def MonteCarlo(F, N, a, b):\n",
    "    '''La función Montecarlo recibe una función F de R^3 a  R, un intervalo (a,b) y un entero N.\n",
    "       Aproxima por medio del método Montecarlo la integral de F en el intervalo (a,b)x(a,b)x(a,b)  \n",
    "    '''\n",
    "    #Se define la medida del intervalo. Como se toma el mismo intervalo para las tres variables éste es simplemente\n",
    "    # (b-a)^3\n",
    "    medida = (b-a)**3\n",
    "    #Se generan tres grupos de números aleatorios tomados en el intervalo (a,b)\n",
    "    a1 = np.random.uniform(a,b,size=N)\n",
    "    a2 = np.random.uniform(a,b,size=N)\n",
    "    a3 = np.random.uniform(a,b,size=N)\n",
    "    #Se define una variable auxiliar para ir acumulando los valores de la función.\n",
    "    acumulado = 0\n",
    "    #Finalmente se evalúa la función F en cada triada de números aleatorios y se va sumando el resultado obtenido.\n",
    "    for i in range(N): \n",
    "        acumulado = F(a1[i], a2[i], a3[i] ) + acumulado\n",
    "    #Se aplica el teorema de Montecarlo para obtener una aproximación a la integral.\n",
    "    aprox = medida * acumulado/N\n",
    "    return aprox #Se arroja el resultado."
   ]
  },
  {
   "attachments": {},
   "cell_type": "markdown",
   "id": "eea7b7e2",
   "metadata": {},
   "source": [
    "Luego, se prueba el método anterior con la función recomendada por el enunciado."
   ]
  },
  {
   "cell_type": "code",
   "execution_count": 7,
   "id": "4b9822dd",
   "metadata": {},
   "outputs": [],
   "source": [
    "# Se define la función F1 igual a x^2 + y^2 + z^2 \n",
    "def F1(x,y,z): \n",
    "    return x**2+y**2+z**2"
   ]
  },
  {
   "cell_type": "code",
   "execution_count": 9,
   "id": "3103d8c7",
   "metadata": {},
   "outputs": [
    {
     "data": {
      "text/plain": [
       "32.03378567275836"
      ]
     },
     "execution_count": 9,
     "metadata": {},
     "output_type": "execute_result"
    }
   ],
   "source": [
    "# Se calcula la integral en el intervalo (0,2)x(0,2)x(0,2) con una muestra de tamaño 100,000\n",
    "MonteCarlo(F1,100000,0,2)"
   ]
  },
  {
   "attachments": {},
   "cell_type": "markdown",
   "id": "5ce6ca21",
   "metadata": {},
   "source": [
    "<center>\n",
    "<img src=\"https://github.com/Urielphy330/ManDatos/blob/main/Tarea3/Integral.PNG?raw=1\">\n",
    "</center>"
   ]
  },
  {
   "cell_type": "markdown",
   "id": "7afd14c1",
   "metadata": {},
   "source": [
    "Luego, considerando que el valor exacto es 32, se observa que este método arroja un método bastante cercano"
   ]
  },
  {
   "cell_type": "markdown",
   "id": "0c4e2e10",
   "metadata": {},
   "source": [
    "## Diccionarios\n",
    "\n",
    "Del siguiente diccionario:\n",
    "```python\n",
    "month_dict = {\n",
    "    \"Enero\": 31,\n",
    "    \"Febero\": 28,\n",
    "    \"Marzo\": 31,\n",
    "    \"Abril\": 30,\n",
    "    \"Mayo\": 31,\n",
    "    \"Junio\": 30,\n",
    "    \"Julio\": 31,\n",
    "    \"Augosto\": 31,\n",
    "    \"Septiembre\": 30,\n",
    "    \"Octubre\": 31,\n",
    "    \"Noviembre\": 30,\n",
    "    \"Diciembre\": 31,\n",
    "}\n",
    "```\n",
    "realiza lo siguitente:\n",
    "- a) Usando el diccionario devuelve el numero de días que tiene Febrero\n",
    "- b) Regresa una lista de los nombres de los meses ordenada alfabeticamente\n",
    "- c) Regresa una lista con el nombre de los meses que tienen 31 dias\n",
    "- d) imprime el nombre del mes y el numero de días en orden ascendente segun los días \n",
    "\n"
   ]
  },
  {
   "attachments": {},
   "cell_type": "markdown",
   "id": "aaefb4e9",
   "metadata": {},
   "source": [
    "**Solución** \n",
    "\n",
    "Como primer paso se define el diccionario anterior."
   ]
  },
  {
   "cell_type": "code",
   "execution_count": 11,
   "id": "9ca6d8f3",
   "metadata": {},
   "outputs": [],
   "source": [
    "month_dict = {\n",
    "    \"Enero\": 31,\n",
    "    \"Febero\": 28,\n",
    "    \"Marzo\": 31,\n",
    "    \"Abril\": 30,\n",
    "    \"Mayo\": 31,\n",
    "    \"Junio\": 30,\n",
    "    \"Julio\": 31,\n",
    "    \"Augosto\": 31,\n",
    "    \"Septiembre\": 30,\n",
    "    \"Octubre\": 31,\n",
    "    \"Noviembre\": 30,\n",
    "    \"Diciembre\": 31,\n",
    "}\n"
   ]
  },
  {
   "cell_type": "markdown",
   "id": "e753932e",
   "metadata": {},
   "source": [
    "- a) Usando el diccionario devuelve el numero de días que tiene Febrero\n"
   ]
  },
  {
   "attachments": {},
   "cell_type": "markdown",
   "metadata": {},
   "source": [
    "Basta con imprimir el valor del diccionario con la llave (key) `\"Febrero\"` de la siguiente forma"
   ]
  },
  {
   "cell_type": "code",
   "execution_count": 13,
   "id": "e97c3327",
   "metadata": {},
   "outputs": [
    {
     "name": "stdout",
     "output_type": "stream",
     "text": [
      "28\n"
     ]
    }
   ],
   "source": [
    "# Se muestra el valor de la entrada del diccionario con llave Febrero\n",
    "print(month_dict[\"Febero\"])"
   ]
  },
  {
   "cell_type": "markdown",
   "id": "e7f5ba3d",
   "metadata": {},
   "source": [
    "- b) Regresa una lista de los nombres de los meses ordenada alfabeticamente\n"
   ]
  },
  {
   "attachments": {},
   "cell_type": "markdown",
   "id": "ca172f39",
   "metadata": {},
   "source": [
    "Como se desea ordenar una lista se debe implementar un método de ordenamiento. Para ello se implementa el método MergeSort cuyo código se vió en la `Tarea 1` y se muestra a continuación."
   ]
  },
  {
   "cell_type": "code",
   "execution_count": 14,
   "id": "9f33a2d2",
   "metadata": {},
   "outputs": [],
   "source": [
    "#Como primera tarea se define la función para mezclar las listas\n",
    "def Mezcla(x,y): \n",
    "    \"\"\" Se reciben dos listas ordenadas y se genera una tercera lista ordenada\n",
    "     que contiene los valores de las entradas. \n",
    "    \"\"\"\n",
    "    i = 0   #Se definen un par de contadores\n",
    "    j = 0\n",
    "    resultado = [] # Se define una lista vacía para llenar el resultado.\n",
    "\n",
    "    # El algoritmo se basa en la comparación uno a uno de elementos de cada lista\n",
    "    # elegiendo al menor en cada comparación y \"cancelarlo\" para evitar volverlo \n",
    "    # a elegir.\n",
    "    while (i<len(x) and j<len(y)): \n",
    "        if(x[i] < y[j]): #Se realiza la comparación\n",
    "            resultado.append(x[i]) #Se elige el menor si es el caso\n",
    "            i += 1 #El contador se incrementa para evitar volver a elegir al mismo\n",
    "                   # elemento\n",
    "        else:\n",
    "            resultado.append(y[j]) # Si el elemento de la primera lista no es menor\n",
    "                                   # entonces es el de la segunda lista.\n",
    "            j += 1 # Se cancela el elemento\n",
    "    #Sucede que al terminar el bucle una lista está vacía pero no se sabe cuál\n",
    "    # por lo que al final agregamos los valores de las dos listas.\n",
    "    resultado += x[i:] \n",
    "    resultado += y[j:]\n",
    "    return resultado #Se regresa la lista mezcla ordenada.\n",
    "\n",
    "def MergeSort(x):\n",
    "    \"\"\" Se ordena una lista x por el método MergeSort  \n",
    "    \"\"\"\n",
    "    # El algortimo es de carácter recursivo entonces se tiene el caso base \n",
    "    if len(x) < 2:  \n",
    "        return x #La lista está trivialmente ordenada.\n",
    "    m = len(x)//2 # Tomamos la longitude de la lista y la divimos entre dos.\n",
    "    S1 = MergeSort(x[0:m]) #Se separa la lista en dos sublistas y se llama \n",
    "                           #recursivamente a la función para ambas sublistas.\n",
    "    S2 = MergeSort(x[m:len(x)]) \n",
    "    #Se obtienen dos mezclas ordenadas por separado y el siguiente paso es realizar la \n",
    "    # mezcla.\n",
    "    return Mezcla(S1,S2) #Se arroja el resultado.  "
   ]
  },
  {
   "attachments": {},
   "cell_type": "markdown",
   "id": "56998640",
   "metadata": {},
   "source": [
    "Luego, simplemente como python le asigna un orden a los strings, por medio del método alfabético, entonces simplemente se aplica MergeSort a la lista de las llaves del diccionario. Como se muestra a continuación. "
   ]
  },
  {
   "cell_type": "code",
   "execution_count": 15,
   "id": "1ed9af24",
   "metadata": {},
   "outputs": [
    {
     "data": {
      "text/plain": [
       "['Abril',\n",
       " 'Augosto',\n",
       " 'Diciembre',\n",
       " 'Enero',\n",
       " 'Febero',\n",
       " 'Julio',\n",
       " 'Junio',\n",
       " 'Marzo',\n",
       " 'Mayo',\n",
       " 'Noviembre',\n",
       " 'Octubre',\n",
       " 'Septiembre']"
      ]
     },
     "execution_count": 15,
     "metadata": {},
     "output_type": "execute_result"
    }
   ],
   "source": [
    "#Se ordena la lista de las llaves del diccionario por medio de MergeSort\n",
    "Ordenado = MergeSort([i for i in month_dict.keys()])\n",
    "Ordenado"
   ]
  },
  {
   "attachments": {},
   "cell_type": "markdown",
   "id": "93f475bb",
   "metadata": {},
   "source": [
    "+ c) Regresa una lista con el nombre de los meses que tienen 31 dias"
   ]
  },
  {
   "attachments": {},
   "cell_type": "markdown",
   "id": "67d1c1ff",
   "metadata": {},
   "source": [
    "Para obtener dicha lista, simplemente se van recorriendo la lista de las llaves del diccionario y se guardan aquellos que tienen valor igual a 31."
   ]
  },
  {
   "cell_type": "code",
   "execution_count": 16,
   "id": "d66f5d1c",
   "metadata": {},
   "outputs": [
    {
     "name": "stdout",
     "output_type": "stream",
     "text": [
      "['Enero', 'Marzo', 'Mayo', 'Julio', 'Augosto', 'Octubre', 'Diciembre']\n"
     ]
    }
   ],
   "source": [
    "#Se define un arreglo para guardar la lista de los meses con 31 días.\n",
    "Res = []\n",
    "# Se van recorriendo las llaves del diccionario y se van guardando los que cumplen que su valor es 31.\n",
    "for i in month_dict.keys():\n",
    "    if month_dict[i] == 31:\n",
    "        Res.append(i) #Se guardan las llaves que tienen 31 días.\n",
    "print(Res)"
   ]
  },
  {
   "attachments": {},
   "cell_type": "markdown",
   "id": "d9f30412",
   "metadata": {},
   "source": [
    "+ d) imprime el nombre del mes y el numero de días en orden ascendente segun los días \n"
   ]
  },
  {
   "attachments": {},
   "cell_type": "markdown",
   "id": "0b59dfe0",
   "metadata": {},
   "source": [
    "Para ordenar el diccionario se hará uso de la biblioteca `collections` y en particular de la función `Counter` la cual se vió en clase. "
   ]
  },
  {
   "cell_type": "code",
   "execution_count": 17,
   "id": "92ea26c5",
   "metadata": {},
   "outputs": [],
   "source": [
    "from collections import Counter"
   ]
  },
  {
   "attachments": {},
   "cell_type": "markdown",
   "id": "36ad1654",
   "metadata": {},
   "source": [
    "Luego, para ordenar el diccionario simplemente se implementa `Counter` la cual simplemente tomará como parámetro de ordenamiento a los valores del diccionario. "
   ]
  },
  {
   "cell_type": "code",
   "execution_count": 18,
   "id": "43d66b1d",
   "metadata": {},
   "outputs": [
    {
     "data": {
      "text/plain": [
       "[('Febero', 28),\n",
       " ('Noviembre', 30),\n",
       " ('Septiembre', 30),\n",
       " ('Junio', 30),\n",
       " ('Abril', 30),\n",
       " ('Diciembre', 31),\n",
       " ('Octubre', 31),\n",
       " ('Augosto', 31),\n",
       " ('Julio', 31),\n",
       " ('Mayo', 31),\n",
       " ('Marzo', 31),\n",
       " ('Enero', 31)]"
      ]
     },
     "execution_count": 18,
     "metadata": {},
     "output_type": "execute_result"
    }
   ],
   "source": [
    "#Se define contador con Counter \n",
    "contador = Counter(month_dict)\n",
    "#Luego se ordenada el diccionario con respecto a los días que tinene cada mes.\n",
    "Dicc_orde = contador.most_common()\n",
    "#Sin embargo contador.most_common() ordena el diccionario de forma descendete por lo que se debe voltear este orden\n",
    "Dicc_orde_des = [Dicc_orde[len(month_dict)-1-i] for i in range(len(month_dict))]\n",
    "# Se imprime el Diccionario ordenado.\n",
    "Dicc_orde_des"
   ]
  },
  {
   "attachments": {},
   "cell_type": "markdown",
   "id": "d45ca01d",
   "metadata": {},
   "source": [
    "Del siguiente diccionario\n",
    "```python\n",
    "d=[{'name':'Todd', 'phone':'555-1414', 'email':'todd@mail.net'},\n",
    "{'name':'Helga', 'phone':'555-1618', 'email':'helga@mail.net'},\n",
    "{'name':'Princess', 'phone':'555-3141', 'email':''},\n",
    "{'name':'LJ', 'phone':'555-2718', 'email':'lj@mail.net'}]\n",
    "```\n",
    "Realiza lo siguiente:\n",
    "\n",
    "+  a) regresa una lista con los nombres de las personas cuyo telefono termina en 8\n",
    "  \n"
   ]
  },
  {
   "attachments": {},
   "cell_type": "markdown",
   "id": "93b988cf",
   "metadata": {},
   "source": [
    "**Solución** \n",
    "\n",
    "Se define primero la lista de diccionarios `d`"
   ]
  },
  {
   "cell_type": "code",
   "execution_count": 20,
   "id": "e0a44beb",
   "metadata": {},
   "outputs": [],
   "source": [
    "d=[{'name':'Todd', 'phone':'555-1414', 'email':'todd@mail.net'},\n",
    "{'name':'Helga', 'phone':'555-1618', 'email':'helga@mail.net'},\n",
    "{'name':'Princess', 'phone':'555-3141', 'email':''},\n",
    "{'name':'LJ', 'phone':'555-2718', 'email':'lj@mail.net'}]"
   ]
  },
  {
   "attachments": {},
   "cell_type": "markdown",
   "id": "c84950d7",
   "metadata": {},
   "source": [
    "Luego, simplemente se van recorriendo los diccionarios y se va checando el número de teléfono en cada uno de ellos y se guarda en un arreglo los nombres que cumplen la condición deseada."
   ]
  },
  {
   "cell_type": "code",
   "execution_count": 21,
   "id": "e1fe7b5c",
   "metadata": {},
   "outputs": [
    {
     "data": {
      "text/plain": [
       "['Helga', 'LJ']"
      ]
     },
     "execution_count": 21,
     "metadata": {},
     "output_type": "execute_result"
    }
   ],
   "source": [
    "#Se define el arreglo para guardar los nombres de las personas cuyo número telefónico termina en 8\n",
    "nombre = []\n",
    "for i in d: #Se van recorriendo los diccionarios de las listas d\n",
    "    if i[\"phone\"][-1] == \"8\": # Se checa el número final del número telefónico\n",
    "        nombre.append(i[\"name\"]) #Se guarda el nombre de la persona que cumple lo que se pide\n",
    "\n",
    "nombre"
   ]
  },
  {
   "cell_type": "markdown",
   "id": "43bc5dc3",
   "metadata": {},
   "source": [
    "b) una lista de las personas cuyo email es vacío"
   ]
  },
  {
   "attachments": {},
   "cell_type": "markdown",
   "id": "24e5369c",
   "metadata": {},
   "source": [
    "El proceso es bastante análogo al ejercicio anterior."
   ]
  },
  {
   "cell_type": "code",
   "execution_count": 23,
   "id": "527cfe41",
   "metadata": {},
   "outputs": [
    {
     "data": {
      "text/plain": [
       "['Princess']"
      ]
     },
     "execution_count": 23,
     "metadata": {},
     "output_type": "execute_result"
    }
   ],
   "source": [
    "# Se define un arreglo para guardar los nombres que tienen correo nulo \n",
    "sin_correos = []\n",
    "for i in d: #Nuevamente se van recorriendo los diccionarios\n",
    "    if i[\"email\"] == \"\": # Se checa la condición solicitada\n",
    "        sin_correos.append(i[\"name\"]) #Se guardan los nombres de las personas que cumplen lo deseado\n",
    "sin_correos #Se imprime el arreglo de las personas sin correo electrónico."
   ]
  },
  {
   "cell_type": "markdown",
   "id": "2e0edf06",
   "metadata": {},
   "source": [
    "Con base en el siguiente diccionario:\n",
    "\n",
    "```python\n",
    "roman_values = {'M': 1000, 'D': 500, 'C': 100, 'L': 50, 'X': 10, 'V': 5, 'I': 1}\n",
    "```\n",
    "a) Construye una función que transforme de numeros romanos a enteros, la función debe de recibir una cadena.\n",
    "en la función verifica prueba con estas 4 cadenas\n",
    "- 'MCMLIV'\n",
    "- 'MMXIX'\n",
    "- 'IV'\n",
    "- 'XL'"
   ]
  },
  {
   "attachments": {},
   "cell_type": "markdown",
   "id": "631d67f8",
   "metadata": {},
   "source": [
    "**Solución** \n",
    "\n",
    "Primero, definimos el diccionario"
   ]
  },
  {
   "cell_type": "code",
   "execution_count": 24,
   "id": "ba344ada",
   "metadata": {},
   "outputs": [],
   "source": [
    "roman_values = {'M': 1000, 'D': 500, 'C': 100, 'L': 50, 'X': 10, 'V': 5, 'I': 1}"
   ]
  },
  {
   "attachments": {},
   "cell_type": "markdown",
   "id": "d106f7e7",
   "metadata": {},
   "source": [
    "Luego, la función que convierte un número romano en entero se basa en ir checando la llave correspondiente y tomar su valor. Se van guardando estos valores. Solo se tiene que tener cuidado en casos problemáticos como por ejemplo en 4, 9, etc. en donde \"I\" en lugar de que sume 1 lo resta, como se muestra a continuación."
   ]
  },
  {
   "cell_type": "code",
   "execution_count": 25,
   "id": "f16a262f",
   "metadata": {},
   "outputs": [],
   "source": [
    "def Romano(x):\n",
    "    ''' La función Romano recibe un número en romano x y lo transforma en un entero positivo'''\n",
    "    num = 0 #Se define un variable auxiliar para ir acumulando el resultado.\n",
    "    for i in range(len(x)): #Se va a recorrer el número romano x, checando su valor por medio del diccionario.\n",
    "        if i < len(x) - 1 and roman_values[x[i]] < roman_values[x[i+1]]: \n",
    "            #Esta condicional es el caso extraño donde el \"I\" se resta en lugar de sumar.\n",
    "            num = num - roman_values[x[i]] #Se actualiza la variable auxiliar con el resultado parcial.\n",
    "        else: #Este caso es el normal donde todos los valores se suman.\n",
    "            num = roman_values[x[i]] + num\n",
    "    return num #Se regresa el resultado"
   ]
  },
  {
   "attachments": {},
   "cell_type": "markdown",
   "id": "2014a8ee",
   "metadata": {},
   "source": [
    "Se prueba la función anterior con algunos valores recomendados por el enunciado."
   ]
  },
  {
   "cell_type": "code",
   "execution_count": 26,
   "id": "b3bcd01b",
   "metadata": {},
   "outputs": [
    {
     "data": {
      "text/plain": [
       "(1954, 2019, 4, 40)"
      ]
     },
     "execution_count": 26,
     "metadata": {},
     "output_type": "execute_result"
    }
   ],
   "source": [
    "Romano(\"MCMLIV\"), Romano(\"MMXIX\"),Romano(\"IV\"),Romano(\"XL\")  "
   ]
  },
  {
   "attachments": {},
   "cell_type": "markdown",
   "id": "e8dd6b88",
   "metadata": {},
   "source": [
    "Como se observa, tanto los casos simples como los casos problemáticos como 4, 40, ets. funcionan adecuadamente."
   ]
  },
  {
   "cell_type": "markdown",
   "id": "a600ccef",
   "metadata": {},
   "source": [
    "b) Haz la función contraria, de enteros a Romanos\n",
    "- Para este ejercicio testea en el verifica la salida del inciso a)"
   ]
  },
  {
   "attachments": {},
   "cell_type": "markdown",
   "id": "d0123756",
   "metadata": {},
   "source": [
    "**Solución**\n",
    "\n",
    "Dada que el sistema Romano es un sistema aditivo y además, dado que el diccionario solo contiene los elementos básicos del sistema Romano, es decir, el máximo número que se puede representar es 3999, la idea fundamental de la función es primero dividir el número dado en sus millares, centenas, decenas y unidades. Luego representar estas cantidades en Romano, que resulta más sencillo, y finalmente concatenar todos los resultados parciales."
   ]
  },
  {
   "cell_type": "code",
   "execution_count": 27,
   "id": "c715d87e",
   "metadata": {},
   "outputs": [],
   "source": [
    "def Enteros_Rombasico(x):\n",
    "    '''Esta función recibe un entero x, que es sencillo, es decir o bien solo tiene unidades o bien solo decenas, etc\n",
    "       y regresa su representación en el sistema Romano.\n",
    "    '''\n",
    "    NUM = \"\" #Se define una cadena vacía para guardar el resultado.\n",
    "    for i in roman_values.keys(): #Se van recorriendo las llaves del diccionario para ver cuáles anexaremos a NUM\n",
    "        # En esta sección se solucionan \"a mano\" los casos que posicionalmente resulta complicado tratar\n",
    "        # como el cuatro, nueve, cuarenta, etc.\n",
    "        if x == 4: \n",
    "            return \"IV\"\n",
    "        if x == 9:\n",
    "            return \"IX\"\n",
    "        if x == 40:\n",
    "            return \"XL\"\n",
    "        if x == 90:\n",
    "            return \"XC\"\n",
    "        if x == 400:\n",
    "            return \"CD\"\n",
    "        if x == 900:\n",
    "            return \"CM\"\n",
    "        #En este bucle se toma el número x y se va dividiendo por cada valor de la llave hasta que el cociente sea 0\n",
    "        while x // roman_values[i] != 0:\n",
    "                NUM = NUM + i #Se van agregando las llaves (letras) a la cadena NUM dado que dividen a x\n",
    "                x = x - roman_values[i] #Se va disminuyendo el valor x\n",
    "    return NUM # Se regresa la cadena NUM\n",
    "\n",
    "def Enteros_Rom1(x):\n",
    "    '''Esta función toma un número entero x compuesto (con unidades, decenas, centenas, millares), \n",
    "    y genera su representación en el sistema Romano\n",
    "    '''\n",
    "    # La idea fundamental de la función es obtener sus unidades, decenas, centenas y millares y obtener su representación\n",
    "    # en el sistema Romano con la función anterior.\n",
    "    a = x - x % 1000 # Se obtienen los millares de x\n",
    "    b = (x - a) - x % 100 # Se obtienen las centenas de x\n",
    "    c = (x - a - b) #Se obtienen las decenas de x\n",
    "    d = c % 10 #Se obtienen las unidades de x\n",
    "    #Finalmente se concatenas las representaciones de los millares, centenas, decenas y unidades y se regresa el resultado \n",
    "    return Enteros_Rombasico(a) + Enteros_Rombasico(b) + Enteros_Rombasico(c-d)+ Enteros_Rombasico(d)"
   ]
  },
  {
   "attachments": {},
   "cell_type": "markdown",
   "id": "3bea0ab3",
   "metadata": {},
   "source": [
    "Se procede a probar la función anterior con la salida de la primera función de esta sección."
   ]
  },
  {
   "cell_type": "code",
   "execution_count": 32,
   "id": "c76fb843",
   "metadata": {},
   "outputs": [
    {
     "data": {
      "text/plain": [
       "('MCMLIV', 'MMXIX', 'IV', 'XL')"
      ]
     },
     "execution_count": 32,
     "metadata": {},
     "output_type": "execute_result"
    }
   ],
   "source": [
    "Enteros_Rom1(Romano(\"MCMLIV\")), Enteros_Rom1(Romano(\"MMXIX\")), Enteros_Rom1(Romano(\"IV\")), Enteros_Rom1(Romano(\"XL\"))"
   ]
  },
  {
   "attachments": {},
   "cell_type": "markdown",
   "id": "8dbb8982",
   "metadata": {},
   "source": [
    "Así se observa que los dos resultado coinciden por lo que la función trabaja adecuadamente."
   ]
  }
 ],
 "metadata": {
  "kernelspec": {
   "display_name": "Python 3 (ipykernel)",
   "language": "python",
   "name": "python3"
  },
  "language_info": {
   "codemirror_mode": {
    "name": "ipython",
    "version": 3
   },
   "file_extension": ".py",
   "mimetype": "text/x-python",
   "name": "python",
   "nbconvert_exporter": "python",
   "pygments_lexer": "ipython3",
   "version": "3.10.6"
  }
 },
 "nbformat": 4,
 "nbformat_minor": 5
}
